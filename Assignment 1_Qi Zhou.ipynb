{
  "nbformat": 4,
  "nbformat_minor": 0,
  "metadata": {
    "kernelspec": {
      "display_name": "Python 3",
      "language": "python",
      "name": "python3"
    },
    "language_info": {
      "codemirror_mode": {
        "name": "ipython",
        "version": 3
      },
      "file_extension": ".py",
      "mimetype": "text/x-python",
      "name": "python",
      "nbconvert_exporter": "python",
      "pygments_lexer": "ipython3",
      "version": "3.7.3"
    },
    "colab": {
      "name": "CA Housing_Dense NN.ipynb",
      "provenance": [],
      "collapsed_sections": [],
      "toc_visible": true
    }
  },
  "cells": [
    {
      "cell_type": "markdown",
      "metadata": {
        "id": "PLYd7voCyJJV",
        "colab_type": "text"
      },
      "source": [
        "OPIM 5509: Introduction to Deep Learning;\n",
        "*   Homework #1: CA Housing DNN\n",
        "*   Author: Qi Zhou \n"
      ]
    },
    {
      "cell_type": "markdown",
      "metadata": {
        "id": "iykTU2dNWP57",
        "colab_type": "text"
      },
      "source": [
        "#### Columns:\n",
        "1. longitude: A measure of how far west a house is; a higher value is farther west\n",
        "2. latitude: A measure of how far north a house is; a higher value is farther north\n",
        "3. housingMedianAge: Median age of a house within a block; a lower number is a newer building\n",
        "4. totalRooms: Total number of rooms within a block\n",
        "5. totalBedrooms: Total number of bedrooms within a block\n",
        "6. population: Total number of people residing within a block\n",
        "7. households: Total number of households, a group of people residing within a home unit, for a block\n",
        "8. medianIncome: Median income for households within a block of houses (measured in tens of thousands of US Dollars)\n",
        "9. medianHouseValue: Median house value for households within a block (measured in US Dollars)\n",
        "10. oceanProximity: Location of the house w.r.t ocean/sea"
      ]
    },
    {
      "cell_type": "code",
      "metadata": {
        "id": "9KJgDp9UlJAD",
        "colab_type": "code",
        "outputId": "1966709c-2cf5-4ff4-b701-9f37745ce4d3",
        "colab": {
          "base_uri": "https://localhost:8080/",
          "height": 35
        }
      },
      "source": [
        "from google.colab import drive\n",
        "drive.mount('/content/drive')"
      ],
      "execution_count": 109,
      "outputs": [
        {
          "output_type": "stream",
          "text": [
            "Drive already mounted at /content/drive; to attempt to forcibly remount, call drive.mount(\"/content/drive\", force_remount=True).\n"
          ],
          "name": "stdout"
        }
      ]
    },
    {
      "cell_type": "code",
      "metadata": {
        "id": "UDByqy14WP58",
        "colab_type": "code",
        "colab": {}
      },
      "source": [
        "import pandas as pd\n",
        "import numpy as np\n",
        "from sklearn.preprocessing import MinMaxScaler\n",
        "from sklearn.utils import shuffle\n",
        "from sklearn.model_selection import train_test_split\n",
        "from sklearn.metrics import mean_absolute_error, mean_squared_error\n",
        "from sklearn.linear_model import LinearRegression\n",
        "from keras.models import Sequential\n",
        "from keras.layers import Dense, Dropout\n",
        "from keras.wrappers.scikit_learn import KerasRegressor\n",
        "from keras.wrappers.scikit_learn import KerasClassifier\n",
        "from sklearn.model_selection import GridSearchCV\n",
        "from sklearn.model_selection import KFold"
      ],
      "execution_count": 0,
      "outputs": []
    },
    {
      "cell_type": "markdown",
      "metadata": {
        "id": "vslbJmaCWP5_",
        "colab_type": "text"
      },
      "source": [
        "#### Load Data"
      ]
    },
    {
      "cell_type": "code",
      "metadata": {
        "id": "Q81XEpmFWS8L",
        "colab_type": "code",
        "colab": {}
      },
      "source": [
        "# https://drive.google.com/file/d/11_CrABFOd7SgTJuLZSYLs3szh5xN_S-W/view?usp=sharing\n",
        "url = \"https://drive.google.com/uc?export=download&id=11_CrABFOd7SgTJuLZSYLs3szh5xN_S-W\" \n",
        "data = pd.read_csv(url)"
      ],
      "execution_count": 0,
      "outputs": []
    },
    {
      "cell_type": "code",
      "metadata": {
        "id": "RQzmcHYiWP6C",
        "colab_type": "code",
        "outputId": "b0e1d096-6aa9-434e-be4c-f3c851b3860a",
        "colab": {
          "base_uri": "https://localhost:8080/",
          "height": 194
        }
      },
      "source": [
        "data.head()"
      ],
      "execution_count": 145,
      "outputs": [
        {
          "output_type": "execute_result",
          "data": {
            "text/html": [
              "<div>\n",
              "<style scoped>\n",
              "    .dataframe tbody tr th:only-of-type {\n",
              "        vertical-align: middle;\n",
              "    }\n",
              "\n",
              "    .dataframe tbody tr th {\n",
              "        vertical-align: top;\n",
              "    }\n",
              "\n",
              "    .dataframe thead th {\n",
              "        text-align: right;\n",
              "    }\n",
              "</style>\n",
              "<table border=\"1\" class=\"dataframe\">\n",
              "  <thead>\n",
              "    <tr style=\"text-align: right;\">\n",
              "      <th></th>\n",
              "      <th>longitude</th>\n",
              "      <th>latitude</th>\n",
              "      <th>housing_median_age</th>\n",
              "      <th>total_rooms</th>\n",
              "      <th>total_bedrooms</th>\n",
              "      <th>population</th>\n",
              "      <th>households</th>\n",
              "      <th>median_income</th>\n",
              "      <th>median_house_value</th>\n",
              "      <th>ocean_proximity</th>\n",
              "    </tr>\n",
              "  </thead>\n",
              "  <tbody>\n",
              "    <tr>\n",
              "      <th>0</th>\n",
              "      <td>-122.23</td>\n",
              "      <td>37.88</td>\n",
              "      <td>41.0</td>\n",
              "      <td>880.0</td>\n",
              "      <td>129.0</td>\n",
              "      <td>322.0</td>\n",
              "      <td>126.0</td>\n",
              "      <td>8.3252</td>\n",
              "      <td>452600.0</td>\n",
              "      <td>NEAR BAY</td>\n",
              "    </tr>\n",
              "    <tr>\n",
              "      <th>1</th>\n",
              "      <td>-122.22</td>\n",
              "      <td>37.86</td>\n",
              "      <td>21.0</td>\n",
              "      <td>7099.0</td>\n",
              "      <td>1106.0</td>\n",
              "      <td>2401.0</td>\n",
              "      <td>1138.0</td>\n",
              "      <td>8.3014</td>\n",
              "      <td>358500.0</td>\n",
              "      <td>NEAR BAY</td>\n",
              "    </tr>\n",
              "    <tr>\n",
              "      <th>2</th>\n",
              "      <td>-122.24</td>\n",
              "      <td>37.85</td>\n",
              "      <td>52.0</td>\n",
              "      <td>1467.0</td>\n",
              "      <td>190.0</td>\n",
              "      <td>496.0</td>\n",
              "      <td>177.0</td>\n",
              "      <td>7.2574</td>\n",
              "      <td>352100.0</td>\n",
              "      <td>NEAR BAY</td>\n",
              "    </tr>\n",
              "    <tr>\n",
              "      <th>3</th>\n",
              "      <td>-122.25</td>\n",
              "      <td>37.85</td>\n",
              "      <td>52.0</td>\n",
              "      <td>1274.0</td>\n",
              "      <td>235.0</td>\n",
              "      <td>558.0</td>\n",
              "      <td>219.0</td>\n",
              "      <td>5.6431</td>\n",
              "      <td>341300.0</td>\n",
              "      <td>NEAR BAY</td>\n",
              "    </tr>\n",
              "    <tr>\n",
              "      <th>4</th>\n",
              "      <td>-122.25</td>\n",
              "      <td>37.85</td>\n",
              "      <td>52.0</td>\n",
              "      <td>1627.0</td>\n",
              "      <td>280.0</td>\n",
              "      <td>565.0</td>\n",
              "      <td>259.0</td>\n",
              "      <td>3.8462</td>\n",
              "      <td>342200.0</td>\n",
              "      <td>NEAR BAY</td>\n",
              "    </tr>\n",
              "  </tbody>\n",
              "</table>\n",
              "</div>"
            ],
            "text/plain": [
              "   longitude  latitude  ...  median_house_value  ocean_proximity\n",
              "0    -122.23     37.88  ...            452600.0         NEAR BAY\n",
              "1    -122.22     37.86  ...            358500.0         NEAR BAY\n",
              "2    -122.24     37.85  ...            352100.0         NEAR BAY\n",
              "3    -122.25     37.85  ...            341300.0         NEAR BAY\n",
              "4    -122.25     37.85  ...            342200.0         NEAR BAY\n",
              "\n",
              "[5 rows x 10 columns]"
            ]
          },
          "metadata": {
            "tags": []
          },
          "execution_count": 145
        }
      ]
    },
    {
      "cell_type": "code",
      "metadata": {
        "id": "5oWYdB-hp7Kc",
        "colab_type": "code",
        "outputId": "8a2d3db6-b0a2-4340-c815-41aee7a5fafd",
        "colab": {
          "base_uri": "https://localhost:8080/",
          "height": 284
        }
      },
      "source": [
        "import matplotlib.pyplot as plt\n",
        "# Plot the median house value\n",
        "data.boxplot(column='median_house_value')"
      ],
      "execution_count": 146,
      "outputs": [
        {
          "output_type": "execute_result",
          "data": {
            "text/plain": [
              "<matplotlib.axes._subplots.AxesSubplot at 0x7f10fe3a3198>"
            ]
          },
          "metadata": {
            "tags": []
          },
          "execution_count": 146
        },
        {
          "output_type": "display_data",
          "data": {
            "image/png": "[encoded data removed]",
            "text/plain": [
              "<Figure size 432x288 with 1 Axes>"
            ]
          },
          "metadata": {
            "tags": []
          }
        }
      ]
    },
    {
      "cell_type": "code",
      "metadata": {
        "id": "B_NV8Nl-qyX3",
        "colab_type": "code",
        "outputId": "bacb5236-0244-47de-cf23-afaea29d8c52",
        "colab": {
          "base_uri": "https://localhost:8080/",
          "height": 286
        }
      },
      "source": [
        "# Plot the median income\n",
        "data.boxplot(column='median_income', fontsize=12)"
      ],
      "execution_count": 150,
      "outputs": [
        {
          "output_type": "execute_result",
          "data": {
            "text/plain": [
              "<matplotlib.axes._subplots.AxesSubplot at 0x7f11000e85c0>"
            ]
          },
          "metadata": {
            "tags": []
          },
          "execution_count": 150
        },
        {
          "output_type": "display_data",
          "data": {
            "image/png": "[encoded data removed]",
            "text/plain": [
              "<Figure size 432x288 with 1 Axes>"
            ]
          },
          "metadata": {
            "tags": []
          }
        }
      ]
    },
    {
      "cell_type": "code",
      "metadata": {
        "id": "b3UNSxrdWP6G",
        "colab_type": "code",
        "outputId": "d5035ef3-a8f8-4199-b55d-36a6f60f02ae",
        "colab": {
          "base_uri": "https://localhost:8080/",
          "height": 284
        }
      },
      "source": [
        "# Check missing value and shape of the data\n",
        "data.info()"
      ],
      "execution_count": 148,
      "outputs": [
        {
          "output_type": "stream",
          "text": [
            "<class 'pandas.core.frame.DataFrame'>\n",
            "RangeIndex: 20640 entries, 0 to 20639\n",
            "Data columns (total 10 columns):\n",
            "longitude             20640 non-null float64\n",
            "latitude              20640 non-null float64\n",
            "housing_median_age    20640 non-null float64\n",
            "total_rooms           20640 non-null float64\n",
            "total_bedrooms        20433 non-null float64\n",
            "population            20640 non-null float64\n",
            "households            20640 non-null float64\n",
            "median_income         20640 non-null float64\n",
            "median_house_value    20640 non-null float64\n",
            "ocean_proximity       20640 non-null object\n",
            "dtypes: float64(9), object(1)\n",
            "memory usage: 1.6+ MB\n"
          ],
          "name": "stdout"
        }
      ]
    },
    {
      "cell_type": "code",
      "metadata": {
        "id": "xgIw9LNrWP6I",
        "colab_type": "code",
        "outputId": "1c244b04-e5ea-433b-eda4-6cf03d6880a8",
        "colab": {
          "base_uri": "https://localhost:8080/",
          "height": 284
        }
      },
      "source": [
        "# Drop missing values\n",
        "data = data.dropna(how=\"any\")\n",
        "data.info()"
      ],
      "execution_count": 116,
      "outputs": [
        {
          "output_type": "stream",
          "text": [
            "<class 'pandas.core.frame.DataFrame'>\n",
            "Int64Index: 20433 entries, 0 to 20639\n",
            "Data columns (total 10 columns):\n",
            "longitude             20433 non-null float64\n",
            "latitude              20433 non-null float64\n",
            "housing_median_age    20433 non-null float64\n",
            "total_rooms           20433 non-null float64\n",
            "total_bedrooms        20433 non-null float64\n",
            "population            20433 non-null float64\n",
            "households            20433 non-null float64\n",
            "median_income         20433 non-null float64\n",
            "median_house_value    20433 non-null float64\n",
            "ocean_proximity       20433 non-null object\n",
            "dtypes: float64(9), object(1)\n",
            "memory usage: 1.7+ MB\n"
          ],
          "name": "stdout"
        }
      ]
    },
    {
      "cell_type": "code",
      "metadata": {
        "id": "E_h_MGwGWP6L",
        "colab_type": "code",
        "outputId": "f2bf7251-1957-4ab3-ec5e-92e53cf8a12c",
        "colab": {
          "base_uri": "https://localhost:8080/",
          "height": 141
        }
      },
      "source": [
        "data.groupby(\"ocean_proximity\")[\"median_house_value\"].count()"
      ],
      "execution_count": 117,
      "outputs": [
        {
          "output_type": "execute_result",
          "data": {
            "text/plain": [
              "ocean_proximity\n",
              "<1H OCEAN     9034\n",
              "INLAND        6496\n",
              "ISLAND           5\n",
              "NEAR BAY      2270\n",
              "NEAR OCEAN    2628\n",
              "Name: median_house_value, dtype: int64"
            ]
          },
          "metadata": {
            "tags": []
          },
          "execution_count": 117
        }
      ]
    },
    {
      "cell_type": "markdown",
      "metadata": {
        "id": "-8NBtbceWP6O",
        "colab_type": "text"
      },
      "source": [
        "#### Feature Engineering"
      ]
    },
    {
      "cell_type": "code",
      "metadata": {
        "id": "__B4BdHYWP6P",
        "colab_type": "code",
        "outputId": "d30de024-36a6-4b5a-c37e-c1dd8ebc0b13",
        "colab": {
          "base_uri": "https://localhost:8080/",
          "height": 231
        }
      },
      "source": [
        "# Create dummy variables\n",
        "data = pd.get_dummies(data, columns=[\"ocean_proximity\"], drop_first=True)\n",
        "data.head()"
      ],
      "execution_count": 118,
      "outputs": [
        {
          "output_type": "execute_result",
          "data": {
            "text/html": [
              "<div>\n",
              "<style scoped>\n",
              "    .dataframe tbody tr th:only-of-type {\n",
              "        vertical-align: middle;\n",
              "    }\n",
              "\n",
              "    .dataframe tbody tr th {\n",
              "        vertical-align: top;\n",
              "    }\n",
              "\n",
              "    .dataframe thead th {\n",
              "        text-align: right;\n",
              "    }\n",
              "</style>\n",
              "<table border=\"1\" class=\"dataframe\">\n",
              "  <thead>\n",
              "    <tr style=\"text-align: right;\">\n",
              "      <th></th>\n",
              "      <th>longitude</th>\n",
              "      <th>latitude</th>\n",
              "      <th>housing_median_age</th>\n",
              "      <th>total_rooms</th>\n",
              "      <th>total_bedrooms</th>\n",
              "      <th>population</th>\n",
              "      <th>households</th>\n",
              "      <th>median_income</th>\n",
              "      <th>median_house_value</th>\n",
              "      <th>ocean_proximity_INLAND</th>\n",
              "      <th>ocean_proximity_ISLAND</th>\n",
              "      <th>ocean_proximity_NEAR BAY</th>\n",
              "      <th>ocean_proximity_NEAR OCEAN</th>\n",
              "    </tr>\n",
              "  </thead>\n",
              "  <tbody>\n",
              "    <tr>\n",
              "      <th>0</th>\n",
              "      <td>-122.23</td>\n",
              "      <td>37.88</td>\n",
              "      <td>41.0</td>\n",
              "      <td>880.0</td>\n",
              "      <td>129.0</td>\n",
              "      <td>322.0</td>\n",
              "      <td>126.0</td>\n",
              "      <td>8.3252</td>\n",
              "      <td>452600.0</td>\n",
              "      <td>0</td>\n",
              "      <td>0</td>\n",
              "      <td>1</td>\n",
              "      <td>0</td>\n",
              "    </tr>\n",
              "    <tr>\n",
              "      <th>1</th>\n",
              "      <td>-122.22</td>\n",
              "      <td>37.86</td>\n",
              "      <td>21.0</td>\n",
              "      <td>7099.0</td>\n",
              "      <td>1106.0</td>\n",
              "      <td>2401.0</td>\n",
              "      <td>1138.0</td>\n",
              "      <td>8.3014</td>\n",
              "      <td>358500.0</td>\n",
              "      <td>0</td>\n",
              "      <td>0</td>\n",
              "      <td>1</td>\n",
              "      <td>0</td>\n",
              "    </tr>\n",
              "    <tr>\n",
              "      <th>2</th>\n",
              "      <td>-122.24</td>\n",
              "      <td>37.85</td>\n",
              "      <td>52.0</td>\n",
              "      <td>1467.0</td>\n",
              "      <td>190.0</td>\n",
              "      <td>496.0</td>\n",
              "      <td>177.0</td>\n",
              "      <td>7.2574</td>\n",
              "      <td>352100.0</td>\n",
              "      <td>0</td>\n",
              "      <td>0</td>\n",
              "      <td>1</td>\n",
              "      <td>0</td>\n",
              "    </tr>\n",
              "    <tr>\n",
              "      <th>3</th>\n",
              "      <td>-122.25</td>\n",
              "      <td>37.85</td>\n",
              "      <td>52.0</td>\n",
              "      <td>1274.0</td>\n",
              "      <td>235.0</td>\n",
              "      <td>558.0</td>\n",
              "      <td>219.0</td>\n",
              "      <td>5.6431</td>\n",
              "      <td>341300.0</td>\n",
              "      <td>0</td>\n",
              "      <td>0</td>\n",
              "      <td>1</td>\n",
              "      <td>0</td>\n",
              "    </tr>\n",
              "    <tr>\n",
              "      <th>4</th>\n",
              "      <td>-122.25</td>\n",
              "      <td>37.85</td>\n",
              "      <td>52.0</td>\n",
              "      <td>1627.0</td>\n",
              "      <td>280.0</td>\n",
              "      <td>565.0</td>\n",
              "      <td>259.0</td>\n",
              "      <td>3.8462</td>\n",
              "      <td>342200.0</td>\n",
              "      <td>0</td>\n",
              "      <td>0</td>\n",
              "      <td>1</td>\n",
              "      <td>0</td>\n",
              "    </tr>\n",
              "  </tbody>\n",
              "</table>\n",
              "</div>"
            ],
            "text/plain": [
              "   longitude  latitude  ...  ocean_proximity_NEAR BAY  ocean_proximity_NEAR OCEAN\n",
              "0    -122.23     37.88  ...                         1                           0\n",
              "1    -122.22     37.86  ...                         1                           0\n",
              "2    -122.24     37.85  ...                         1                           0\n",
              "3    -122.25     37.85  ...                         1                           0\n",
              "4    -122.25     37.85  ...                         1                           0\n",
              "\n",
              "[5 rows x 13 columns]"
            ]
          },
          "metadata": {
            "tags": []
          },
          "execution_count": 118
        }
      ]
    },
    {
      "cell_type": "code",
      "metadata": {
        "id": "ECegfSQMWP6R",
        "colab_type": "code",
        "outputId": "5652b9e1-8f0a-4557-d14c-cd317181d00a",
        "colab": {
          "base_uri": "https://localhost:8080/",
          "height": 231
        }
      },
      "source": [
        "# Perform min/max normalization on the numeric columns\n",
        "X = data.iloc[:,2:8]\n",
        "scaler = MinMaxScaler(feature_range=(0, 1))\n",
        "rescaledX = scaler.fit_transform(X)\n",
        "data.iloc[:,2:8] = rescaledX\n",
        "data.head()"
      ],
      "execution_count": 119,
      "outputs": [
        {
          "output_type": "execute_result",
          "data": {
            "text/html": [
              "<div>\n",
              "<style scoped>\n",
              "    .dataframe tbody tr th:only-of-type {\n",
              "        vertical-align: middle;\n",
              "    }\n",
              "\n",
              "    .dataframe tbody tr th {\n",
              "        vertical-align: top;\n",
              "    }\n",
              "\n",
              "    .dataframe thead th {\n",
              "        text-align: right;\n",
              "    }\n",
              "</style>\n",
              "<table border=\"1\" class=\"dataframe\">\n",
              "  <thead>\n",
              "    <tr style=\"text-align: right;\">\n",
              "      <th></th>\n",
              "      <th>longitude</th>\n",
              "      <th>latitude</th>\n",
              "      <th>housing_median_age</th>\n",
              "      <th>total_rooms</th>\n",
              "      <th>total_bedrooms</th>\n",
              "      <th>population</th>\n",
              "      <th>households</th>\n",
              "      <th>median_income</th>\n",
              "      <th>median_house_value</th>\n",
              "      <th>ocean_proximity_INLAND</th>\n",
              "      <th>ocean_proximity_ISLAND</th>\n",
              "      <th>ocean_proximity_NEAR BAY</th>\n",
              "      <th>ocean_proximity_NEAR OCEAN</th>\n",
              "    </tr>\n",
              "  </thead>\n",
              "  <tbody>\n",
              "    <tr>\n",
              "      <th>0</th>\n",
              "      <td>-122.23</td>\n",
              "      <td>37.88</td>\n",
              "      <td>0.784314</td>\n",
              "      <td>0.022331</td>\n",
              "      <td>0.019863</td>\n",
              "      <td>0.008941</td>\n",
              "      <td>0.020556</td>\n",
              "      <td>0.539668</td>\n",
              "      <td>452600.0</td>\n",
              "      <td>0</td>\n",
              "      <td>0</td>\n",
              "      <td>1</td>\n",
              "      <td>0</td>\n",
              "    </tr>\n",
              "    <tr>\n",
              "      <th>1</th>\n",
              "      <td>-122.22</td>\n",
              "      <td>37.86</td>\n",
              "      <td>0.392157</td>\n",
              "      <td>0.180503</td>\n",
              "      <td>0.171477</td>\n",
              "      <td>0.067210</td>\n",
              "      <td>0.186976</td>\n",
              "      <td>0.538027</td>\n",
              "      <td>358500.0</td>\n",
              "      <td>0</td>\n",
              "      <td>0</td>\n",
              "      <td>1</td>\n",
              "      <td>0</td>\n",
              "    </tr>\n",
              "    <tr>\n",
              "      <th>2</th>\n",
              "      <td>-122.24</td>\n",
              "      <td>37.85</td>\n",
              "      <td>1.000000</td>\n",
              "      <td>0.037260</td>\n",
              "      <td>0.029330</td>\n",
              "      <td>0.013818</td>\n",
              "      <td>0.028943</td>\n",
              "      <td>0.466028</td>\n",
              "      <td>352100.0</td>\n",
              "      <td>0</td>\n",
              "      <td>0</td>\n",
              "      <td>1</td>\n",
              "      <td>0</td>\n",
              "    </tr>\n",
              "    <tr>\n",
              "      <th>3</th>\n",
              "      <td>-122.25</td>\n",
              "      <td>37.85</td>\n",
              "      <td>1.000000</td>\n",
              "      <td>0.032352</td>\n",
              "      <td>0.036313</td>\n",
              "      <td>0.015555</td>\n",
              "      <td>0.035849</td>\n",
              "      <td>0.354699</td>\n",
              "      <td>341300.0</td>\n",
              "      <td>0</td>\n",
              "      <td>0</td>\n",
              "      <td>1</td>\n",
              "      <td>0</td>\n",
              "    </tr>\n",
              "    <tr>\n",
              "      <th>4</th>\n",
              "      <td>-122.25</td>\n",
              "      <td>37.85</td>\n",
              "      <td>1.000000</td>\n",
              "      <td>0.041330</td>\n",
              "      <td>0.043296</td>\n",
              "      <td>0.015752</td>\n",
              "      <td>0.042427</td>\n",
              "      <td>0.230776</td>\n",
              "      <td>342200.0</td>\n",
              "      <td>0</td>\n",
              "      <td>0</td>\n",
              "      <td>1</td>\n",
              "      <td>0</td>\n",
              "    </tr>\n",
              "  </tbody>\n",
              "</table>\n",
              "</div>"
            ],
            "text/plain": [
              "   longitude  latitude  ...  ocean_proximity_NEAR BAY  ocean_proximity_NEAR OCEAN\n",
              "0    -122.23     37.88  ...                         1                           0\n",
              "1    -122.22     37.86  ...                         1                           0\n",
              "2    -122.24     37.85  ...                         1                           0\n",
              "3    -122.25     37.85  ...                         1                           0\n",
              "4    -122.25     37.85  ...                         1                           0\n",
              "\n",
              "[5 rows x 13 columns]"
            ]
          },
          "metadata": {
            "tags": []
          },
          "execution_count": 119
        }
      ]
    },
    {
      "cell_type": "code",
      "metadata": {
        "id": "iRrgOjigWP6U",
        "colab_type": "code",
        "outputId": "2e9bec0c-b484-46e3-aa45-3991948bf0c9",
        "colab": {
          "base_uri": "https://localhost:8080/",
          "height": 88
        }
      },
      "source": [
        "# Create a categorical variable\n",
        "# Binning\n",
        "data.sort_values('median_house_value', inplace=True)\n",
        "group_names = ['Cheaper House','Average House','Expensive House']\n",
        "group_bins = pd.qcut(data['median_house_value'], 3, labels=group_names)\n",
        "pd.value_counts(group_bins)"
      ],
      "execution_count": 120,
      "outputs": [
        {
          "output_type": "execute_result",
          "data": {
            "text/plain": [
              "Average House      6812\n",
              "Cheaper House      6812\n",
              "Expensive House    6809\n",
              "Name: median_house_value, dtype: int64"
            ]
          },
          "metadata": {
            "tags": []
          },
          "execution_count": 120
        }
      ]
    },
    {
      "cell_type": "code",
      "metadata": {
        "id": "WMRICmNrWP6X",
        "colab_type": "code",
        "outputId": "45aaf2d1-c26b-486c-a94b-77277c49196a",
        "colab": {
          "base_uri": "https://localhost:8080/",
          "height": 315
        }
      },
      "source": [
        "# Add a new column called \"Percentiles\"\n",
        "data['Percentiles'] = group_bins\n",
        "data.sort_index(inplace=True)\n",
        "data.head()"
      ],
      "execution_count": 121,
      "outputs": [
        {
          "output_type": "execute_result",
          "data": {
            "text/html": [
              "<div>\n",
              "<style scoped>\n",
              "    .dataframe tbody tr th:only-of-type {\n",
              "        vertical-align: middle;\n",
              "    }\n",
              "\n",
              "    .dataframe tbody tr th {\n",
              "        vertical-align: top;\n",
              "    }\n",
              "\n",
              "    .dataframe thead th {\n",
              "        text-align: right;\n",
              "    }\n",
              "</style>\n",
              "<table border=\"1\" class=\"dataframe\">\n",
              "  <thead>\n",
              "    <tr style=\"text-align: right;\">\n",
              "      <th></th>\n",
              "      <th>longitude</th>\n",
              "      <th>latitude</th>\n",
              "      <th>housing_median_age</th>\n",
              "      <th>total_rooms</th>\n",
              "      <th>total_bedrooms</th>\n",
              "      <th>population</th>\n",
              "      <th>households</th>\n",
              "      <th>median_income</th>\n",
              "      <th>median_house_value</th>\n",
              "      <th>ocean_proximity_INLAND</th>\n",
              "      <th>ocean_proximity_ISLAND</th>\n",
              "      <th>ocean_proximity_NEAR BAY</th>\n",
              "      <th>ocean_proximity_NEAR OCEAN</th>\n",
              "      <th>Percentiles</th>\n",
              "    </tr>\n",
              "  </thead>\n",
              "  <tbody>\n",
              "    <tr>\n",
              "      <th>0</th>\n",
              "      <td>-122.23</td>\n",
              "      <td>37.88</td>\n",
              "      <td>0.784314</td>\n",
              "      <td>0.022331</td>\n",
              "      <td>0.019863</td>\n",
              "      <td>0.008941</td>\n",
              "      <td>0.020556</td>\n",
              "      <td>0.539668</td>\n",
              "      <td>452600.0</td>\n",
              "      <td>0</td>\n",
              "      <td>0</td>\n",
              "      <td>1</td>\n",
              "      <td>0</td>\n",
              "      <td>Expensive House</td>\n",
              "    </tr>\n",
              "    <tr>\n",
              "      <th>1</th>\n",
              "      <td>-122.22</td>\n",
              "      <td>37.86</td>\n",
              "      <td>0.392157</td>\n",
              "      <td>0.180503</td>\n",
              "      <td>0.171477</td>\n",
              "      <td>0.067210</td>\n",
              "      <td>0.186976</td>\n",
              "      <td>0.538027</td>\n",
              "      <td>358500.0</td>\n",
              "      <td>0</td>\n",
              "      <td>0</td>\n",
              "      <td>1</td>\n",
              "      <td>0</td>\n",
              "      <td>Expensive House</td>\n",
              "    </tr>\n",
              "    <tr>\n",
              "      <th>2</th>\n",
              "      <td>-122.24</td>\n",
              "      <td>37.85</td>\n",
              "      <td>1.000000</td>\n",
              "      <td>0.037260</td>\n",
              "      <td>0.029330</td>\n",
              "      <td>0.013818</td>\n",
              "      <td>0.028943</td>\n",
              "      <td>0.466028</td>\n",
              "      <td>352100.0</td>\n",
              "      <td>0</td>\n",
              "      <td>0</td>\n",
              "      <td>1</td>\n",
              "      <td>0</td>\n",
              "      <td>Expensive House</td>\n",
              "    </tr>\n",
              "    <tr>\n",
              "      <th>3</th>\n",
              "      <td>-122.25</td>\n",
              "      <td>37.85</td>\n",
              "      <td>1.000000</td>\n",
              "      <td>0.032352</td>\n",
              "      <td>0.036313</td>\n",
              "      <td>0.015555</td>\n",
              "      <td>0.035849</td>\n",
              "      <td>0.354699</td>\n",
              "      <td>341300.0</td>\n",
              "      <td>0</td>\n",
              "      <td>0</td>\n",
              "      <td>1</td>\n",
              "      <td>0</td>\n",
              "      <td>Expensive House</td>\n",
              "    </tr>\n",
              "    <tr>\n",
              "      <th>4</th>\n",
              "      <td>-122.25</td>\n",
              "      <td>37.85</td>\n",
              "      <td>1.000000</td>\n",
              "      <td>0.041330</td>\n",
              "      <td>0.043296</td>\n",
              "      <td>0.015752</td>\n",
              "      <td>0.042427</td>\n",
              "      <td>0.230776</td>\n",
              "      <td>342200.0</td>\n",
              "      <td>0</td>\n",
              "      <td>0</td>\n",
              "      <td>1</td>\n",
              "      <td>0</td>\n",
              "      <td>Expensive House</td>\n",
              "    </tr>\n",
              "  </tbody>\n",
              "</table>\n",
              "</div>"
            ],
            "text/plain": [
              "   longitude  latitude  ...  ocean_proximity_NEAR OCEAN      Percentiles\n",
              "0    -122.23     37.88  ...                           0  Expensive House\n",
              "1    -122.22     37.86  ...                           0  Expensive House\n",
              "2    -122.24     37.85  ...                           0  Expensive House\n",
              "3    -122.25     37.85  ...                           0  Expensive House\n",
              "4    -122.25     37.85  ...                           0  Expensive House\n",
              "\n",
              "[5 rows x 14 columns]"
            ]
          },
          "metadata": {
            "tags": []
          },
          "execution_count": 121
        }
      ]
    },
    {
      "cell_type": "markdown",
      "metadata": {
        "id": "4n64n07aQs3-",
        "colab_type": "text"
      },
      "source": [
        "### Regression Problem"
      ]
    },
    {
      "cell_type": "markdown",
      "metadata": {
        "id": "BfisuIaqWP6Z",
        "colab_type": "text"
      },
      "source": [
        "#### Model Fitting"
      ]
    },
    {
      "cell_type": "code",
      "metadata": {
        "scrolled": true,
        "id": "SFwVF9QhWP6a",
        "colab_type": "code",
        "outputId": "562081b5-5d79-4152-ef3e-ec05e3b1b28e",
        "colab": {
          "base_uri": "https://localhost:8080/",
          "height": 315
        }
      },
      "source": [
        "# Shuffle the data randomly (the rows)\n",
        "model_data = shuffle(data.iloc[:,2:], random_state=123).reset_index(drop=True)\n",
        "model_data.head()"
      ],
      "execution_count": 122,
      "outputs": [
        {
          "output_type": "execute_result",
          "data": {
            "text/html": [
              "<div>\n",
              "<style scoped>\n",
              "    .dataframe tbody tr th:only-of-type {\n",
              "        vertical-align: middle;\n",
              "    }\n",
              "\n",
              "    .dataframe tbody tr th {\n",
              "        vertical-align: top;\n",
              "    }\n",
              "\n",
              "    .dataframe thead th {\n",
              "        text-align: right;\n",
              "    }\n",
              "</style>\n",
              "<table border=\"1\" class=\"dataframe\">\n",
              "  <thead>\n",
              "    <tr style=\"text-align: right;\">\n",
              "      <th></th>\n",
              "      <th>housing_median_age</th>\n",
              "      <th>total_rooms</th>\n",
              "      <th>total_bedrooms</th>\n",
              "      <th>population</th>\n",
              "      <th>households</th>\n",
              "      <th>median_income</th>\n",
              "      <th>median_house_value</th>\n",
              "      <th>ocean_proximity_INLAND</th>\n",
              "      <th>ocean_proximity_ISLAND</th>\n",
              "      <th>ocean_proximity_NEAR BAY</th>\n",
              "      <th>ocean_proximity_NEAR OCEAN</th>\n",
              "      <th>Percentiles</th>\n",
              "    </tr>\n",
              "  </thead>\n",
              "  <tbody>\n",
              "    <tr>\n",
              "      <th>0</th>\n",
              "      <td>0.431373</td>\n",
              "      <td>0.061371</td>\n",
              "      <td>0.101179</td>\n",
              "      <td>0.035651</td>\n",
              "      <td>0.097846</td>\n",
              "      <td>0.181997</td>\n",
              "      <td>101800.0</td>\n",
              "      <td>0</td>\n",
              "      <td>0</td>\n",
              "      <td>0</td>\n",
              "      <td>1</td>\n",
              "      <td>Cheaper House</td>\n",
              "    </tr>\n",
              "    <tr>\n",
              "      <th>1</th>\n",
              "      <td>0.450980</td>\n",
              "      <td>0.072893</td>\n",
              "      <td>0.081626</td>\n",
              "      <td>0.035903</td>\n",
              "      <td>0.079921</td>\n",
              "      <td>0.194363</td>\n",
              "      <td>213000.0</td>\n",
              "      <td>1</td>\n",
              "      <td>0</td>\n",
              "      <td>0</td>\n",
              "      <td>0</td>\n",
              "      <td>Average House</td>\n",
              "    </tr>\n",
              "    <tr>\n",
              "      <th>2</th>\n",
              "      <td>0.745098</td>\n",
              "      <td>0.059973</td>\n",
              "      <td>0.094041</td>\n",
              "      <td>0.057289</td>\n",
              "      <td>0.099326</td>\n",
              "      <td>0.083137</td>\n",
              "      <td>58800.0</td>\n",
              "      <td>1</td>\n",
              "      <td>0</td>\n",
              "      <td>0</td>\n",
              "      <td>0</td>\n",
              "      <td>Cheaper House</td>\n",
              "    </tr>\n",
              "    <tr>\n",
              "      <th>3</th>\n",
              "      <td>0.196078</td>\n",
              "      <td>0.031207</td>\n",
              "      <td>0.036468</td>\n",
              "      <td>0.016200</td>\n",
              "      <td>0.031080</td>\n",
              "      <td>0.179453</td>\n",
              "      <td>111300.0</td>\n",
              "      <td>0</td>\n",
              "      <td>0</td>\n",
              "      <td>0</td>\n",
              "      <td>0</td>\n",
              "      <td>Cheaper House</td>\n",
              "    </tr>\n",
              "    <tr>\n",
              "      <th>4</th>\n",
              "      <td>0.392157</td>\n",
              "      <td>0.044153</td>\n",
              "      <td>0.045624</td>\n",
              "      <td>0.027467</td>\n",
              "      <td>0.048841</td>\n",
              "      <td>0.298444</td>\n",
              "      <td>174100.0</td>\n",
              "      <td>0</td>\n",
              "      <td>0</td>\n",
              "      <td>0</td>\n",
              "      <td>1</td>\n",
              "      <td>Average House</td>\n",
              "    </tr>\n",
              "  </tbody>\n",
              "</table>\n",
              "</div>"
            ],
            "text/plain": [
              "   housing_median_age  total_rooms  ...  ocean_proximity_NEAR OCEAN    Percentiles\n",
              "0            0.431373     0.061371  ...                           1  Cheaper House\n",
              "1            0.450980     0.072893  ...                           0  Average House\n",
              "2            0.745098     0.059973  ...                           0  Cheaper House\n",
              "3            0.196078     0.031207  ...                           0  Cheaper House\n",
              "4            0.392157     0.044153  ...                           1  Average House\n",
              "\n",
              "[5 rows x 12 columns]"
            ]
          },
          "metadata": {
            "tags": []
          },
          "execution_count": 122
        }
      ]
    },
    {
      "cell_type": "code",
      "metadata": {
        "id": "drksgd9WWP6c",
        "colab_type": "code",
        "outputId": "68e5dffd-d388-4aab-8b2e-1c05142ba8bb",
        "colab": {
          "base_uri": "https://localhost:8080/",
          "height": 52
        }
      },
      "source": [
        "# Do an 8:2 for training/validation split.\n",
        "X = model_data.drop([\"median_house_value\",\"Percentiles\"], axis=1)\n",
        "y = model_data[\"median_house_value\"]\n",
        "\n",
        "X_train, X_test, y_train, y_test = train_test_split(X, y, train_size=0.8, random_state= 525)\n",
        "print(X_train.shape)\n",
        "print(X_test.shape)"
      ],
      "execution_count": 123,
      "outputs": [
        {
          "output_type": "stream",
          "text": [
            "(16346, 10)\n",
            "(4087, 10)\n"
          ],
          "name": "stdout"
        }
      ]
    },
    {
      "cell_type": "code",
      "metadata": {
        "id": "eGiKzpLmWP6p",
        "colab_type": "code",
        "outputId": "6ca0e633-5c3b-4ed8-a0df-b585598cb524",
        "colab": {
          "base_uri": "https://localhost:8080/",
          "height": 1000
        }
      },
      "source": [
        "# Fit neural networks\n",
        "# Model 1\n",
        "def create_model1():\n",
        "    model1 = Sequential()\n",
        "    model1.add(Dense(32, input_dim=10, activation='relu'))\n",
        "    model1.add(Dropout(0.2))\n",
        "    model1.add(Dense(32, activation='relu'))\n",
        "    model1.add(Dropout(0.2))\n",
        "    model1.add(Dense(1))\n",
        "    model1.compile(optimizer='rmsprop', loss='mse', metrics=['mae'])\n",
        "    return model1\n",
        "model1 = KerasRegressor(build_fn=create_model1)\n",
        "\n",
        "batch_size = [10, 20]\n",
        "epochs = [25, 50]\n",
        "param_grid = dict(batch_size=batch_size, epochs=epochs)\n",
        "M1_best_model = GridSearchCV(estimator=model1, cv=3, param_grid=param_grid, n_jobs=-1)\n",
        "M1_model = M1_best_model.fit(X_train, y_train)\n",
        "print(\"Best: %f using %s\" % (M1_best_model.best_score_, M1_best_model.best_params_))"
      ],
      "execution_count": 124,
      "outputs": [
        {
          "output_type": "stream",
          "text": [
            "Epoch 1/50\n",
            "16346/16346 [==============================] - 3s 171us/step - loss: 55851448999.5762 - mean_absolute_error: 206060.1453\n",
            "Epoch 2/50\n",
            "16346/16346 [==============================] - 2s 129us/step - loss: 48435929483.7930 - mean_absolute_error: 186799.3244\n",
            "Epoch 3/50\n",
            "16346/16346 [==============================] - 2s 129us/step - loss: 29250308055.8130 - mean_absolute_error: 131125.0998\n",
            "Epoch 4/50\n",
            "16346/16346 [==============================] - 2s 130us/step - loss: 14989572075.7734 - mean_absolute_error: 93442.4006\n",
            "Epoch 5/50\n",
            "16346/16346 [==============================] - 2s 126us/step - loss: 12676528075.0334 - mean_absolute_error: 88115.3141\n",
            "Epoch 6/50\n",
            "16346/16346 [==============================] - 2s 125us/step - loss: 11628888568.8271 - mean_absolute_error: 83827.6862\n",
            "Epoch 7/50\n",
            "16346/16346 [==============================] - 2s 131us/step - loss: 10712191776.2936 - mean_absolute_error: 80116.1104\n",
            "Epoch 8/50\n",
            "16346/16346 [==============================] - 2s 134us/step - loss: 9877386192.0450 - mean_absolute_error: 75996.0910\n",
            "Epoch 9/50\n",
            "16346/16346 [==============================] - 2s 132us/step - loss: 9311142671.3951 - mean_absolute_error: 73368.5567\n",
            "Epoch 10/50\n",
            "16346/16346 [==============================] - 2s 130us/step - loss: 8845693902.1343 - mean_absolute_error: 70856.5122\n",
            "Epoch 11/50\n",
            "16346/16346 [==============================] - 2s 130us/step - loss: 8558134813.6860 - mean_absolute_error: 69581.9776\n",
            "Epoch 12/50\n",
            "16346/16346 [==============================] - 2s 130us/step - loss: 8286396211.9956 - mean_absolute_error: 68298.0378\n",
            "Epoch 13/50\n",
            "16346/16346 [==============================] - 2s 129us/step - loss: 8008232209.5407 - mean_absolute_error: 67040.6725\n",
            "Epoch 14/50\n",
            "16346/16346 [==============================] - 2s 126us/step - loss: 7802295338.1133 - mean_absolute_error: 66032.2834\n",
            "Epoch 15/50\n",
            "16346/16346 [==============================] - 2s 122us/step - loss: 7551804626.3081 - mean_absolute_error: 64945.9652\n",
            "Epoch 16/50\n",
            "16346/16346 [==============================] - 2s 127us/step - loss: 7407446846.9233 - mean_absolute_error: 64319.0551\n",
            "Epoch 17/50\n",
            "16346/16346 [==============================] - 2s 125us/step - loss: 7230757730.4079 - mean_absolute_error: 63196.0721\n",
            "Epoch 18/50\n",
            "16346/16346 [==============================] - 2s 122us/step - loss: 7037501723.3447 - mean_absolute_error: 62472.0673\n",
            "Epoch 19/50\n",
            "16346/16346 [==============================] - 2s 128us/step - loss: 7011879681.7697 - mean_absolute_error: 62039.4272\n",
            "Epoch 20/50\n",
            "16346/16346 [==============================] - 2s 129us/step - loss: 6925645632.8849 - mean_absolute_error: 61562.2848\n",
            "Epoch 21/50\n",
            "16346/16346 [==============================] - 2s 129us/step - loss: 6774836009.6904 - mean_absolute_error: 60789.7058\n",
            "Epoch 22/50\n",
            "16346/16346 [==============================] - 2s 130us/step - loss: 6762425747.1930 - mean_absolute_error: 60634.6003\n",
            "Epoch 23/50\n",
            "16346/16346 [==============================] - 2s 130us/step - loss: 6627642034.2494 - mean_absolute_error: 60035.4664\n",
            "Epoch 24/50\n",
            "16346/16346 [==============================] - 2s 132us/step - loss: 6588231361.7619 - mean_absolute_error: 59532.4684\n",
            "Epoch 25/50\n",
            "16346/16346 [==============================] - 2s 132us/step - loss: 6573835189.9807 - mean_absolute_error: 59582.6254\n",
            "Epoch 26/50\n",
            "16346/16346 [==============================] - 2s 133us/step - loss: 6494043409.9792 - mean_absolute_error: 58885.2202\n",
            "Epoch 27/50\n",
            "16346/16346 [==============================] - 2s 133us/step - loss: 6457373669.0782 - mean_absolute_error: 58965.6206\n",
            "Epoch 28/50\n",
            "16346/16346 [==============================] - 2s 132us/step - loss: 6514232717.7350 - mean_absolute_error: 59105.5063\n",
            "Epoch 29/50\n",
            "16346/16346 [==============================] - 2s 130us/step - loss: 6487759998.6610 - mean_absolute_error: 58639.0049\n",
            "Epoch 30/50\n",
            "16346/16346 [==============================] - 2s 131us/step - loss: 6514445167.2306 - mean_absolute_error: 58707.6534\n",
            "Epoch 31/50\n",
            "16346/16346 [==============================] - 2s 133us/step - loss: 6441480530.6252 - mean_absolute_error: 58729.4590\n",
            "Epoch 32/50\n",
            "16346/16346 [==============================] - 2s 132us/step - loss: 6474561528.0910 - mean_absolute_error: 58672.3535\n",
            "Epoch 33/50\n",
            "16346/16346 [==============================] - 2s 128us/step - loss: 6392137064.8017 - mean_absolute_error: 58174.2528\n",
            "Epoch 34/50\n",
            "16346/16346 [==============================] - 2s 128us/step - loss: 6499576793.4614 - mean_absolute_error: 58674.1064\n",
            "Epoch 35/50\n",
            "16346/16346 [==============================] - 2s 132us/step - loss: 6449653670.2489 - mean_absolute_error: 58306.3849\n",
            "Epoch 36/50\n",
            "16346/16346 [==============================] - 2s 133us/step - loss: 6297688276.7121 - mean_absolute_error: 57784.2242\n",
            "Epoch 37/50\n",
            "16346/16346 [==============================] - 2s 136us/step - loss: 6328560905.0836 - mean_absolute_error: 57929.9006\n",
            "Epoch 38/50\n",
            "16346/16346 [==============================] - 2s 131us/step - loss: 6391362454.4975 - mean_absolute_error: 58197.9491\n",
            "Epoch 39/50\n",
            "16346/16346 [==============================] - 2s 130us/step - loss: 6355450762.4735 - mean_absolute_error: 57995.9065\n",
            "Epoch 40/50\n",
            "16346/16346 [==============================] - 2s 130us/step - loss: 6357432071.4352 - mean_absolute_error: 57790.2651\n",
            "Epoch 41/50\n",
            "16346/16346 [==============================] - 2s 130us/step - loss: 6375419725.6332 - mean_absolute_error: 57971.2169\n",
            "Epoch 42/50\n",
            "16346/16346 [==============================] - 2s 132us/step - loss: 6319251195.9202 - mean_absolute_error: 57728.5277\n",
            "Epoch 43/50\n",
            "16346/16346 [==============================] - 2s 129us/step - loss: 6383536679.3687 - mean_absolute_error: 57802.6352\n",
            "Epoch 44/50\n",
            "16346/16346 [==============================] - 2s 129us/step - loss: 6264291845.3562 - mean_absolute_error: 57610.2412\n",
            "Epoch 45/50\n",
            "16346/16346 [==============================] - 2s 132us/step - loss: 6337710855.9364 - mean_absolute_error: 57813.3753\n",
            "Epoch 46/50\n",
            "16346/16346 [==============================] - 2s 129us/step - loss: 6336200818.7897 - mean_absolute_error: 57544.8157\n",
            "Epoch 47/50\n",
            "16346/16346 [==============================] - 2s 129us/step - loss: 6268289419.6050 - mean_absolute_error: 57602.7441\n",
            "Epoch 48/50\n",
            "16346/16346 [==============================] - 2s 125us/step - loss: 6397128693.5774 - mean_absolute_error: 58067.0924\n",
            "Epoch 49/50\n",
            "16346/16346 [==============================] - 2s 128us/step - loss: 6305797961.5025 - mean_absolute_error: 57508.8007\n",
            "Epoch 50/50\n",
            "16346/16346 [==============================] - 2s 129us/step - loss: 6319385718.9086 - mean_absolute_error: 57709.8926\n",
            "Best: -5394684687.546607 using {'batch_size': 10, 'epochs': 50}\n"
          ],
          "name": "stdout"
        }
      ]
    },
    {
      "cell_type": "code",
      "metadata": {
        "id": "8YIqF2CZto1e",
        "colab_type": "code",
        "outputId": "8dc6e41f-514c-473f-8abe-6a0eac0c981d",
        "colab": {
          "base_uri": "https://localhost:8080/",
          "height": 1000
        }
      },
      "source": [
        "# Model 2\n",
        "def create_model2():\n",
        "    model2 = Sequential()\n",
        "    model2.add(Dense(64, input_dim=10, activation='relu'))\n",
        "    model2.add(Dropout(0.5))\n",
        "    model2.add(Dense(64, activation='relu'))\n",
        "    model2.add(Dropout(0.5))\n",
        "    model2.add(Dense(64, activation='relu'))\n",
        "    model2.add(Dropout(0.5))\n",
        "    model2.add(Dense(1))\n",
        "    model2.compile(optimizer='rmsprop', loss='mse', metrics=['mae'])\n",
        "    return model2\n",
        "model2 = KerasRegressor(build_fn=create_model2)\n",
        "\n",
        "batch_size = [10, 20]\n",
        "epochs = [25, 50]\n",
        "param_grid = dict(batch_size=batch_size, epochs=epochs)\n",
        "M2_best_model = GridSearchCV(estimator=model2, cv=3, param_grid=param_grid, n_jobs=-1)\n",
        "M2_model = M2_best_model.fit(X_train, y_train)\n",
        "print(\"Best: %f using %s\" % (M2_best_model.best_score_, M2_best_model.best_params_))"
      ],
      "execution_count": 125,
      "outputs": [
        {
          "output_type": "stream",
          "text": [
            "Epoch 1/50\n",
            "16346/16346 [==============================] - 3s 186us/step - loss: 31974941004.1140 - mean_absolute_error: 140111.9364\n",
            "Epoch 2/50\n",
            "16346/16346 [==============================] - 2s 141us/step - loss: 11867463802.5499 - mean_absolute_error: 82375.1204\n",
            "Epoch 3/50\n",
            "16346/16346 [==============================] - 2s 143us/step - loss: 10081325234.9385 - mean_absolute_error: 74571.7441\n",
            "Epoch 4/50\n",
            "16346/16346 [==============================] - 2s 140us/step - loss: 9238813422.1383 - mean_absolute_error: 70907.6517\n",
            "Epoch 5/50\n",
            "16346/16346 [==============================] - 2s 138us/step - loss: 8769539285.1036 - mean_absolute_error: 68668.4966\n",
            "Epoch 6/50\n",
            "16346/16346 [==============================] - 2s 137us/step - loss: 8586229173.0762 - mean_absolute_error: 67509.1122\n",
            "Epoch 7/50\n",
            "16346/16346 [==============================] - 2s 142us/step - loss: 8256550519.5742 - mean_absolute_error: 66026.0810\n",
            "Epoch 8/50\n",
            "16346/16346 [==============================] - 2s 140us/step - loss: 8108505823.6280 - mean_absolute_error: 65112.8161\n",
            "Epoch 9/50\n",
            "16346/16346 [==============================] - 2s 149us/step - loss: 8155423192.2437 - mean_absolute_error: 65183.9642\n",
            "Epoch 10/50\n",
            "16346/16346 [==============================] - 2s 144us/step - loss: 8225524748.2550 - mean_absolute_error: 65093.0788\n",
            "Epoch 11/50\n",
            "16346/16346 [==============================] - 2s 146us/step - loss: 8100502224.8007 - mean_absolute_error: 65051.8524\n",
            "Epoch 12/50\n",
            "16346/16346 [==============================] - 2s 145us/step - loss: 7938907181.7154 - mean_absolute_error: 64284.0367\n",
            "Epoch 13/50\n",
            "16346/16346 [==============================] - 2s 147us/step - loss: 8080547630.7921 - mean_absolute_error: 64746.0671\n",
            "Epoch 14/50\n",
            "16346/16346 [==============================] - 2s 142us/step - loss: 8114423801.5475 - mean_absolute_error: 64880.0681\n",
            "Epoch 15/50\n",
            "16346/16346 [==============================] - 2s 144us/step - loss: 8056652986.9805 - mean_absolute_error: 64446.3348\n",
            "Epoch 16/50\n",
            "16346/16346 [==============================] - 2s 143us/step - loss: 8038525641.7061 - mean_absolute_error: 64758.6438\n",
            "Epoch 17/50\n",
            "16346/16346 [==============================] - 2s 145us/step - loss: 7923889097.5064 - mean_absolute_error: 64033.0872\n",
            "Epoch 18/50\n",
            "16346/16346 [==============================] - 2s 140us/step - loss: 8006067720.4415 - mean_absolute_error: 64808.8965\n",
            "Epoch 19/50\n",
            "16346/16346 [==============================] - 2s 141us/step - loss: 7896902159.2071 - mean_absolute_error: 64099.8802\n",
            "Epoch 20/50\n",
            "16346/16346 [==============================] - 2s 147us/step - loss: 7952284295.8385 - mean_absolute_error: 64301.2984\n",
            "Epoch 21/50\n",
            "16346/16346 [==============================] - 2s 150us/step - loss: 7993843747.5669 - mean_absolute_error: 64334.9968\n",
            "Epoch 22/50\n",
            "16346/16346 [==============================] - 2s 147us/step - loss: 7900304635.7049 - mean_absolute_error: 63752.3216\n",
            "Epoch 23/50\n",
            "16346/16346 [==============================] - 2s 141us/step - loss: 8067597939.4200 - mean_absolute_error: 64306.8796\n",
            "Epoch 24/50\n",
            "16346/16346 [==============================] - 2s 143us/step - loss: 8080617291.2605 - mean_absolute_error: 64199.5516\n",
            "Epoch 25/50\n",
            "16346/16346 [==============================] - 2s 143us/step - loss: 7892531528.8956 - mean_absolute_error: 63684.1130\n",
            "Epoch 26/50\n",
            "16346/16346 [==============================] - 2s 147us/step - loss: 7919640923.8615 - mean_absolute_error: 64030.0622\n",
            "Epoch 27/50\n",
            "16346/16346 [==============================] - 2s 140us/step - loss: 7901891341.2730 - mean_absolute_error: 63838.3291\n",
            "Epoch 28/50\n",
            "16346/16346 [==============================] - 2s 145us/step - loss: 7858916385.4448 - mean_absolute_error: 63850.0284\n",
            "Epoch 29/50\n",
            "16346/16346 [==============================] - 2s 143us/step - loss: 7717658875.6618 - mean_absolute_error: 63268.6641\n",
            "Epoch 30/50\n",
            "16346/16346 [==============================] - 2s 142us/step - loss: 7892812384.4424 - mean_absolute_error: 63689.3245\n",
            "Epoch 31/50\n",
            "16346/16346 [==============================] - 2s 138us/step - loss: 7898547195.5248 - mean_absolute_error: 63665.7852\n",
            "Epoch 32/50\n",
            "16346/16346 [==============================] - 2s 140us/step - loss: 7851012543.5615 - mean_absolute_error: 63860.4718\n",
            "Epoch 33/50\n",
            "16346/16346 [==============================] - 2s 140us/step - loss: 7829532639.8395 - mean_absolute_error: 63465.6634\n",
            "Epoch 34/50\n",
            "16346/16346 [==============================] - 2s 145us/step - loss: 7899974683.8850 - mean_absolute_error: 63699.1520\n",
            "Epoch 35/50\n",
            "16346/16346 [==============================] - 2s 147us/step - loss: 7801662212.4282 - mean_absolute_error: 63222.4865\n",
            "Epoch 36/50\n",
            "16346/16346 [==============================] - 2s 147us/step - loss: 7807711210.1681 - mean_absolute_error: 63160.2818\n",
            "Epoch 37/50\n",
            "16346/16346 [==============================] - 2s 147us/step - loss: 7696606464.7517 - mean_absolute_error: 62566.1480\n",
            "Epoch 38/50\n",
            "16346/16346 [==============================] - 2s 148us/step - loss: 7891367357.4590 - mean_absolute_error: 63868.0888\n",
            "Epoch 39/50\n",
            "16346/16346 [==============================] - 2s 145us/step - loss: 7789112991.3657 - mean_absolute_error: 63238.5929\n",
            "Epoch 40/50\n",
            "16346/16346 [==============================] - 2s 144us/step - loss: 7730558585.3048 - mean_absolute_error: 63147.1406\n",
            "Epoch 41/50\n",
            "16346/16346 [==============================] - 2s 143us/step - loss: 7680233234.1750 - mean_absolute_error: 62728.0672\n",
            "Epoch 42/50\n",
            "16346/16346 [==============================] - 2s 145us/step - loss: 7637761323.2566 - mean_absolute_error: 62847.4874\n",
            "Epoch 43/50\n",
            "16346/16346 [==============================] - 2s 143us/step - loss: 7788913355.3858 - mean_absolute_error: 63099.8709\n",
            "Epoch 44/50\n",
            "16346/16346 [==============================] - 2s 141us/step - loss: 7720602585.4457 - mean_absolute_error: 63104.3708\n",
            "Epoch 45/50\n",
            "16346/16346 [==============================] - 2s 143us/step - loss: 7693669536.8105 - mean_absolute_error: 62880.8829\n",
            "Epoch 46/50\n",
            "16346/16346 [==============================] - 2s 148us/step - loss: 7714977689.8647 - mean_absolute_error: 62805.1174\n",
            "Epoch 47/50\n",
            "16346/16346 [==============================] - 2s 148us/step - loss: 7668302966.5092 - mean_absolute_error: 62634.7813\n",
            "Epoch 48/50\n",
            "16346/16346 [==============================] - 2s 145us/step - loss: 7655816535.7700 - mean_absolute_error: 62635.8510\n",
            "Epoch 49/50\n",
            "16346/16346 [==============================] - 2s 142us/step - loss: 7615741248.5168 - mean_absolute_error: 62498.9261\n",
            "Epoch 50/50\n",
            "16346/16346 [==============================] - 2s 144us/step - loss: 7692681865.1071 - mean_absolute_error: 62666.4167\n",
            "Best: -5117073592.761693 using {'batch_size': 10, 'epochs': 50}\n"
          ],
          "name": "stdout"
        }
      ]
    },
    {
      "cell_type": "code",
      "metadata": {
        "id": "hsl-8Fcb16m4",
        "colab_type": "code",
        "outputId": "da10c9d6-7ffa-4c54-ca20-986d5bf868ae",
        "colab": {
          "base_uri": "https://localhost:8080/",
          "height": 1000
        }
      },
      "source": [
        "# Model 3\n",
        "def create_model3():\n",
        "    model3 = Sequential()\n",
        "    model3.add(Dense(16, input_dim=10, activation='relu'))\n",
        "    model3.add(Dropout(0.3))\n",
        "    model3.add(Dense(16, activation='relu'))\n",
        "    model3.add(Dropout(0.3))\n",
        "    model3.add(Dense(16, activation='relu'))\n",
        "    model3.add(Dropout(0.3))\n",
        "    model3.add(Dense(16, activation='relu'))\n",
        "    model3.add(Dropout(0.3))\n",
        "    model3.add(Dense(1))\n",
        "    model3.compile(optimizer='rmsprop', loss='mse', metrics=['mae'])\n",
        "    return model3\n",
        "model3 = KerasRegressor(build_fn=create_model3)\n",
        "\n",
        "batch_size = [10, 20]\n",
        "epochs = [25, 50]\n",
        "param_grid = dict(batch_size=batch_size, epochs=epochs)\n",
        "M3_best_model = GridSearchCV(estimator=model3, cv=3, param_grid=param_grid, n_jobs=-1)\n",
        "M3_model = M3_best_model.fit(X_train, y_train)\n",
        "print(\"Best: %f using %s\" % (M3_best_model.best_score_, M3_best_model.best_params_))"
      ],
      "execution_count": 126,
      "outputs": [
        {
          "output_type": "stream",
          "text": [
            "/usr/local/lib/python3.6/dist-packages/joblib/externals/loky/process_executor.py:706: UserWarning: A worker stopped while some jobs were given to the executor. This can be caused by a too short worker timeout or by a memory leak.\n",
            "  \"timeout or by a memory leak.\", UserWarning\n"
          ],
          "name": "stderr"
        },
        {
          "output_type": "stream",
          "text": [
            "Epoch 1/50\n",
            "16346/16346 [==============================] - 3s 197us/step - loss: 42185579322.7300 - mean_absolute_error: 168712.0303\n",
            "Epoch 2/50\n",
            "16346/16346 [==============================] - 2s 141us/step - loss: 16522505824.1840 - mean_absolute_error: 97685.8862\n",
            "Epoch 3/50\n",
            "16346/16346 [==============================] - 2s 139us/step - loss: 14468181762.4588 - mean_absolute_error: 89902.8073\n",
            "Epoch 4/50\n",
            "16346/16346 [==============================] - 2s 139us/step - loss: 13485493733.4619 - mean_absolute_error: 86008.5900\n",
            "Epoch 5/50\n",
            "16346/16346 [==============================] - 2s 139us/step - loss: 12816284930.8190 - mean_absolute_error: 83170.8590\n",
            "Epoch 6/50\n",
            "16346/16346 [==============================] - 2s 142us/step - loss: 12211299911.3921 - mean_absolute_error: 80954.3736\n",
            "Epoch 7/50\n",
            "16346/16346 [==============================] - 2s 147us/step - loss: 11922753133.7467 - mean_absolute_error: 79765.7957\n",
            "Epoch 8/50\n",
            "16346/16346 [==============================] - 2s 145us/step - loss: 11559401866.9394 - mean_absolute_error: 78672.7536\n",
            "Epoch 9/50\n",
            "16346/16346 [==============================] - 2s 148us/step - loss: 11392025901.0185 - mean_absolute_error: 77468.5267\n",
            "Epoch 10/50\n",
            "16346/16346 [==============================] - 2s 150us/step - loss: 11268636363.2096 - mean_absolute_error: 77124.9002\n",
            "Epoch 11/50\n",
            "16346/16346 [==============================] - 3s 167us/step - loss: 11081163764.8648 - mean_absolute_error: 76721.5529\n",
            "Epoch 12/50\n",
            "16346/16346 [==============================] - 3s 175us/step - loss: 11288281828.6475 - mean_absolute_error: 76562.7845\n",
            "Epoch 13/50\n",
            "16346/16346 [==============================] - 3s 169us/step - loss: 11402204130.1730 - mean_absolute_error: 77017.9625\n",
            "Epoch 14/50\n",
            "16346/16346 [==============================] - 3s 162us/step - loss: 10916634974.7823 - mean_absolute_error: 75620.8554\n",
            "Epoch 15/50\n",
            "16346/16346 [==============================] - 2s 150us/step - loss: 10984949554.2259 - mean_absolute_error: 75854.8863\n",
            "Epoch 16/50\n",
            "16346/16346 [==============================] - 2s 147us/step - loss: 11016840770.1299 - mean_absolute_error: 75689.9232\n",
            "Epoch 17/50\n",
            "16346/16346 [==============================] - 2s 150us/step - loss: 10893456401.4036 - mean_absolute_error: 75295.6826\n",
            "Epoch 18/50\n",
            "16346/16346 [==============================] - 3s 155us/step - loss: 10923245350.6991 - mean_absolute_error: 75646.4571\n",
            "Epoch 19/50\n",
            "16346/16346 [==============================] - 3s 154us/step - loss: 10932331492.6553 - mean_absolute_error: 75187.3016\n",
            "Epoch 20/50\n",
            "16346/16346 [==============================] - 2s 151us/step - loss: 10709328534.9360 - mean_absolute_error: 74892.3386\n",
            "Epoch 21/50\n",
            "16346/16346 [==============================] - 2s 147us/step - loss: 10898920551.0280 - mean_absolute_error: 75397.6648\n",
            "Epoch 22/50\n",
            "16346/16346 [==============================] - 3s 153us/step - loss: 10718403752.0852 - mean_absolute_error: 74850.9681\n",
            "Epoch 23/50\n",
            "16346/16346 [==============================] - 2s 148us/step - loss: 10543923739.5953 - mean_absolute_error: 74212.4323\n",
            "Epoch 24/50\n",
            "16346/16346 [==============================] - 2s 143us/step - loss: 10606404717.1203 - mean_absolute_error: 73662.2245\n",
            "Epoch 25/50\n",
            "16346/16346 [==============================] - 2s 144us/step - loss: 10421052197.9944 - mean_absolute_error: 73471.3824\n",
            "Epoch 26/50\n",
            "16346/16346 [==============================] - 2s 149us/step - loss: 10406514113.9577 - mean_absolute_error: 73609.6378\n",
            "Epoch 27/50\n",
            "16346/16346 [==============================] - 2s 148us/step - loss: 10490746860.4782 - mean_absolute_error: 73500.0051\n",
            "Epoch 28/50\n",
            "16346/16346 [==============================] - 2s 145us/step - loss: 10553478300.4684 - mean_absolute_error: 73748.5104\n",
            "Epoch 29/50\n",
            "16346/16346 [==============================] - 2s 146us/step - loss: 10550659529.1697 - mean_absolute_error: 73359.0764\n",
            "Epoch 30/50\n",
            "16346/16346 [==============================] - 2s 147us/step - loss: 10340254652.0299 - mean_absolute_error: 73268.7565\n",
            "Epoch 31/50\n",
            "16346/16346 [==============================] - 2s 152us/step - loss: 10397276692.6651 - mean_absolute_error: 73216.2412\n",
            "Epoch 32/50\n",
            "16346/16346 [==============================] - 3s 154us/step - loss: 9991763450.0722 - mean_absolute_error: 72120.2838\n",
            "Epoch 33/50\n",
            "16346/16346 [==============================] - 3s 154us/step - loss: 10263154748.7346 - mean_absolute_error: 72789.1351\n",
            "Epoch 34/50\n",
            "16346/16346 [==============================] - 3s 153us/step - loss: 10131778981.6577 - mean_absolute_error: 72320.8395\n",
            "Epoch 35/50\n",
            "16346/16346 [==============================] - 3s 157us/step - loss: 10141077708.8110 - mean_absolute_error: 71892.2064\n",
            "Epoch 36/50\n",
            "16346/16346 [==============================] - 2s 151us/step - loss: 10189529400.8271 - mean_absolute_error: 72217.8542\n",
            "Epoch 37/50\n",
            "16346/16346 [==============================] - 2s 153us/step - loss: 9799712240.8790 - mean_absolute_error: 71359.4700\n",
            "Epoch 38/50\n",
            "16346/16346 [==============================] - 3s 155us/step - loss: 10051821358.8508 - mean_absolute_error: 71948.6525\n",
            "Epoch 39/50\n",
            "16346/16346 [==============================] - 3s 160us/step - loss: 9942696101.5324 - mean_absolute_error: 71739.3525\n",
            "Epoch 40/50\n",
            "16346/16346 [==============================] - 3s 153us/step - loss: 9961730922.9277 - mean_absolute_error: 71877.2013\n",
            "Epoch 41/50\n",
            "16346/16346 [==============================] - 3s 154us/step - loss: 9818466732.3764 - mean_absolute_error: 71757.6472\n",
            "Epoch 42/50\n",
            "16346/16346 [==============================] - 3s 157us/step - loss: 10153527222.7207 - mean_absolute_error: 72246.9569\n",
            "Epoch 43/50\n",
            "16346/16346 [==============================] - 3s 158us/step - loss: 9998736504.7958 - mean_absolute_error: 72421.5109\n",
            "Epoch 44/50\n",
            "16346/16346 [==============================] - 3s 155us/step - loss: 10085329803.2370 - mean_absolute_error: 71931.2760\n",
            "Epoch 45/50\n",
            "16346/16346 [==============================] - 3s 153us/step - loss: 9966568626.4764 - mean_absolute_error: 71840.6932\n",
            "Epoch 46/50\n",
            "16346/16346 [==============================] - 3s 155us/step - loss: 9786408953.5475 - mean_absolute_error: 71610.6772\n",
            "Epoch 47/50\n",
            "16346/16346 [==============================] - 3s 157us/step - loss: 9884942114.6037 - mean_absolute_error: 72023.3420\n",
            "Epoch 48/50\n",
            "16346/16346 [==============================] - 3s 155us/step - loss: 10130101283.6217 - mean_absolute_error: 72462.4712\n",
            "Epoch 49/50\n",
            "16346/16346 [==============================] - 3s 156us/step - loss: 9776441420.5291 - mean_absolute_error: 71500.7325\n",
            "Epoch 50/50\n",
            "16346/16346 [==============================] - 3s 154us/step - loss: 9644887228.2804 - mean_absolute_error: 71355.7459\n",
            "Best: -5570267842.011880 using {'batch_size': 10, 'epochs': 50}\n"
          ],
          "name": "stdout"
        }
      ]
    },
    {
      "cell_type": "markdown",
      "metadata": {
        "id": "Caqz-N-zalnX",
        "colab_type": "text"
      },
      "source": [
        "#### Model Validation"
      ]
    },
    {
      "cell_type": "code",
      "metadata": {
        "colab_type": "code",
        "outputId": "fe23b7ad-bd55-4628-ebcb-f06da8e283e2",
        "id": "ewKVGo7EBdLU",
        "colab": {
          "base_uri": "https://localhost:8080/",
          "height": 124
        }
      },
      "source": [
        "# MAE and RSME of the training data\n",
        "# Model 1\n",
        "M1_train_y = M1_model.predict(X_train)\n",
        "M1_train_mae = mean_absolute_error(y_train, M1_train_y)\n",
        "M1_train_rsme = np.sqrt(mean_squared_error (y_train, M1_train_y))\n",
        "print(\"M1 Train MAE Score = \", round(M1_train_mae,2))\n",
        "print(\"M1 Train RMSE Score = \", round(M1_train_rsme,2))\n",
        "\n",
        "# Model 2\n",
        "M2_train_y = M2_model.predict(X_train)\n",
        "M2_train_mae = mean_absolute_error(y_train, M2_train_y)\n",
        "M2_train_rsme = np.sqrt(mean_squared_error (y_train, M2_train_y))\n",
        "print(\"M2 Train MAE Score = \", round(M2_train_mae,2))\n",
        "print(\"M2 Train RMSE Score = \", round(M2_train_rsme,2))\n",
        "\n",
        "# Model 3\n",
        "M3_train_y = M3_model.predict(X_train)\n",
        "M3_train_mae = mean_absolute_error(y_train, M3_train_y)\n",
        "M3_train_rsme = np.sqrt(mean_squared_error (y_train, M3_train_y))\n",
        "print(\"M3 Train MAE Score = \", round(M3_train_mae,2))\n",
        "print(\"M3 Train RMSE Score = \", round(M3_train_rsme,2))"
      ],
      "execution_count": 127,
      "outputs": [
        {
          "output_type": "stream",
          "text": [
            "M1 Train MAE Score =  52097.57\n",
            "M1 Train RMSE Score =  72574.15\n",
            "M2 Train MAE Score =  49140.52\n",
            "M2 Train RMSE Score =  70808.63\n",
            "M3 Train MAE Score =  50204.04\n",
            "M3 Train RMSE Score =  72179.33\n"
          ],
          "name": "stdout"
        }
      ]
    },
    {
      "cell_type": "code",
      "metadata": {
        "id": "_jWduBzHavMr",
        "colab_type": "code",
        "outputId": "50617149-997e-44eb-fd03-7f55bf04d360",
        "colab": {
          "base_uri": "https://localhost:8080/",
          "height": 124
        }
      },
      "source": [
        "# MAE and RSME of the validation data \n",
        "# Model 1\n",
        "M1_test_y = M1_model.predict(X_test)\n",
        "M1_test_mae = mean_absolute_error(y_test, M1_test_y)\n",
        "M1_test_rsme = np.sqrt(mean_squared_error (y_test, M1_test_y))\n",
        "print(\"M1 Test MAE Score = \", round(M1_test_mae,2))\n",
        "print(\"M1 Test RMSE Score = \", round(M1_test_rsme,2))\n",
        "\n",
        "# Model 2\n",
        "M2_test_y = M2_model.predict(X_test)\n",
        "M2_test_mae = mean_absolute_error(y_test, M2_test_y)\n",
        "M2_test_rsme = np.sqrt(mean_squared_error (y_test, M2_test_y))\n",
        "print(\"M2 Test MAE Score = \", round(M2_test_mae,2))\n",
        "print(\"M2 Test RMSE Score = \", round(M2_test_rsme,2))\n",
        "\n",
        "# Model 3 \n",
        "M3_test_y = M3_model.predict(X_test)\n",
        "M3_test_mae = mean_absolute_error(y_test, M3_test_y)\n",
        "M3_test_rsme = np.sqrt(mean_squared_error (y_test, M3_test_y))\n",
        "print(\"M3 Test MAE Score = \", round(M3_test_mae,2))\n",
        "print(\"M3 Test RMSE Score = \", round(M3_test_rsme,2))"
      ],
      "execution_count": 128,
      "outputs": [
        {
          "output_type": "stream",
          "text": [
            "M1 Test MAE Score =  51052.21\n",
            "M1 Test RMSE Score =  70223.92\n",
            "M2 Test MAE Score =  48016.7\n",
            "M2 Test RMSE Score =  68283.8\n",
            "M3 Test MAE Score =  48767.14\n",
            "M3 Test RMSE Score =  69594.96\n"
          ],
          "name": "stdout"
        }
      ]
    },
    {
      "cell_type": "code",
      "metadata": {
        "id": "54W_5fXFNhbW",
        "colab_type": "code",
        "colab": {
          "base_uri": "https://localhost:8080/",
          "height": 164
        },
        "outputId": "2d1f066c-9b77-4ac6-dd96-1bf0e97f3131"
      },
      "source": [
        "# MAE and RMSE Table \n",
        "data = {'Model 1':[M1_train_mae, M1_train_rsme, M1_test_mae, M1_test_rsme], 'Model 2':[M2_train_mae, M2_train_rsme, M2_test_mae, M2_test_rsme],'Model 3':[M3_train_mae, M3_train_rsme, M3_test_mae, M3_test_rsme]} \n",
        "Model_Comparison = pd.DataFrame(data, index=[\"Train MAE\",\"Train RSME\", \"Test MAE\", \"Test RSME\"]) \n",
        "Model_Comparison.to_csv('/content/drive/My Drive/Deep Learning/Week 1/mae_rsme_table.csv')\n",
        "Model_Comparison"
      ],
      "execution_count": 129,
      "outputs": [
        {
          "output_type": "execute_result",
          "data": {
            "text/html": [
              "<div>\n",
              "<style scoped>\n",
              "    .dataframe tbody tr th:only-of-type {\n",
              "        vertical-align: middle;\n",
              "    }\n",
              "\n",
              "    .dataframe tbody tr th {\n",
              "        vertical-align: top;\n",
              "    }\n",
              "\n",
              "    .dataframe thead th {\n",
              "        text-align: right;\n",
              "    }\n",
              "</style>\n",
              "<table border=\"1\" class=\"dataframe\">\n",
              "  <thead>\n",
              "    <tr style=\"text-align: right;\">\n",
              "      <th></th>\n",
              "      <th>Model 1</th>\n",
              "      <th>Model 2</th>\n",
              "      <th>Model 3</th>\n",
              "    </tr>\n",
              "  </thead>\n",
              "  <tbody>\n",
              "    <tr>\n",
              "      <th>Train MAE</th>\n",
              "      <td>52097.574076</td>\n",
              "      <td>49140.515261</td>\n",
              "      <td>50204.037882</td>\n",
              "    </tr>\n",
              "    <tr>\n",
              "      <th>Train RSME</th>\n",
              "      <td>72574.148403</td>\n",
              "      <td>70808.626926</td>\n",
              "      <td>72179.334363</td>\n",
              "    </tr>\n",
              "    <tr>\n",
              "      <th>Test MAE</th>\n",
              "      <td>51052.212146</td>\n",
              "      <td>48016.703218</td>\n",
              "      <td>48767.138993</td>\n",
              "    </tr>\n",
              "    <tr>\n",
              "      <th>Test RSME</th>\n",
              "      <td>70223.920048</td>\n",
              "      <td>68283.803209</td>\n",
              "      <td>69594.959121</td>\n",
              "    </tr>\n",
              "  </tbody>\n",
              "</table>\n",
              "</div>"
            ],
            "text/plain": [
              "                 Model 1       Model 2       Model 3\n",
              "Train MAE   52097.574076  49140.515261  50204.037882\n",
              "Train RSME  72574.148403  70808.626926  72179.334363\n",
              "Test MAE    51052.212146  48016.703218  48767.138993\n",
              "Test RSME   70223.920048  68283.803209  69594.959121"
            ]
          },
          "metadata": {
            "tags": []
          },
          "execution_count": 129
        }
      ]
    },
    {
      "cell_type": "code",
      "metadata": {
        "id": "sfxTrCd60TUz",
        "colab_type": "code",
        "outputId": "71d4ee7a-a72c-410b-89d6-86cc7e0b47ff",
        "colab": {
          "base_uri": "https://localhost:8080/",
          "height": 297
        }
      },
      "source": [
        "# Scatterplot of the training and validation data \n",
        "import matplotlib.pyplot as plt\n",
        "%matplotlib inline\n",
        "\n",
        "# Model 1\n",
        "fig, axes = plt.subplots(1,2)\n",
        "\n",
        "# Training Results\n",
        "axes[0].scatter(x=y_train, y=M1_model.predict(X_train)) \n",
        "axes[0].set_xlabel(\"Actual\", fontsize=10)\n",
        "axes[0].set_ylabel(\"Predicted\",  fontsize=10)\n",
        "axes[0].set_title(\"Training\")\n",
        "x = np.linspace(*axes[0].get_xlim())\n",
        "axes[0].plot(x, x, color='red')\n",
        "\n",
        "# Validation Results\n",
        "axes[1].scatter(x=y_test, y=M1_model.predict(X_test))\n",
        "axes[1].set_xlabel(\"Actual\", fontsize=10)\n",
        "axes[1].set_ylabel(\"Predicted\",  fontsize=10)\n",
        "axes[1].set_title(\"Validation\")\n",
        "x = np.linspace(*axes[1].get_xlim())\n",
        "axes[1].plot(x, x, color='red')\n",
        "\n",
        "fig.tight_layout()\n",
        "plt.savefig('/content/drive/My Drive/Deep Learning/Week 1/M1_Results_Plot.png')\n",
        "plt.show()"
      ],
      "execution_count": 130,
      "outputs": [
        {
          "output_type": "display_data",
          "data": {
            "image/png": "[encoded data removed]",
            "text/plain": [
              "<Figure size 432x288 with 2 Axes>"
            ]
          },
          "metadata": {
            "tags": []
          }
        }
      ]
    },
    {
      "cell_type": "code",
      "metadata": {
        "id": "-DFSsC51QKoc",
        "colab_type": "code",
        "colab": {
          "base_uri": "https://localhost:8080/",
          "height": 297
        },
        "outputId": "76e35d6f-c2f3-44ad-92f1-8021e716812d"
      },
      "source": [
        "# Model 2\n",
        "fig, axes = plt.subplots(1,2) \n",
        "\n",
        "# Training Results\n",
        "axes[0].scatter(x=y_train, y=M2_model.predict(X_train)) \n",
        "axes[0].set_xlabel(\"Actual\", fontsize=10)\n",
        "axes[0].set_ylabel(\"Predicted\",  fontsize=10)\n",
        "axes[0].set_title(\"Training\")\n",
        "x = np.linspace(*axes[0].get_xlim())\n",
        "axes[0].plot(x, x, color='red')\n",
        "\n",
        "# Validation Results\n",
        "axes[1].scatter(x=y_test, y=M2_model.predict(X_test)) \n",
        "axes[1].set_xlabel(\"Actual\", fontsize=10)\n",
        "axes[1].set_ylabel(\"Predicted\",  fontsize=10)\n",
        "axes[1].set_title(\"Validation\")\n",
        "x = np.linspace(*axes[1].get_xlim())\n",
        "axes[1].plot(x, x, color='red')\n",
        "\n",
        "fig.tight_layout()\n",
        "plt.savefig('/content/drive/My Drive/Deep Learning/Week 1/M2_Results_Plot.png')\n",
        "plt.show()"
      ],
      "execution_count": 131,
      "outputs": [
        {
          "output_type": "display_data",
          "data": {
            "image/png": "[encoded data removed]",
            "text/plain": [
              "<Figure size 432x288 with 2 Axes>"
            ]
          },
          "metadata": {
            "tags": []
          }
        }
      ]
    },
    {
      "cell_type": "code",
      "metadata": {
        "colab_type": "code",
        "outputId": "3c5492d6-b67b-4971-931b-a98998df3415",
        "id": "sHqvxdJaQ-zw",
        "colab": {
          "base_uri": "https://localhost:8080/",
          "height": 297
        }
      },
      "source": [
        "# Model 3\n",
        "fig, axes = plt.subplots(1,2)\n",
        "\n",
        "# Training Results\n",
        "axes[0].scatter(x=y_train, y=M3_model.predict(X_train)) \n",
        "axes[0].set_xlabel(\"Actual\", fontsize=10)\n",
        "axes[0].set_ylabel(\"Predicted\",  fontsize=10)\n",
        "axes[0].set_title(\"Training\")\n",
        "x = np.linspace(*axes[0].get_xlim())\n",
        "axes[0].plot(x, x, color='red')\n",
        "\n",
        "# Validation Results\n",
        "axes[1].scatter(x=y_test, y=M3_model.predict(X_test)) \n",
        "axes[1].set_xlabel(\"Actual\", fontsize=10)\n",
        "axes[1].set_ylabel(\"Predicted\",  fontsize=10)\n",
        "axes[1].set_title(\"Validation\")\n",
        "x = np.linspace(*axes[1].get_xlim())\n",
        "axes[1].plot(x, x, color='red')\n",
        "\n",
        "fig.tight_layout()\n",
        "plt.savefig('/content/drive/My Drive/Deep Learning/Week 1/M3_Results_Plot.png')\n",
        "plt.show()"
      ],
      "execution_count": 132,
      "outputs": [
        {
          "output_type": "display_data",
          "data": {
            "image/png": "[encoded data removed]",
            "text/plain": [
              "<Figure size 432x288 with 2 Axes>"
            ]
          },
          "metadata": {
            "tags": []
          }
        }
      ]
    },
    {
      "cell_type": "markdown",
      "metadata": {
        "id": "x1lP7IaBh9rB",
        "colab_type": "text"
      },
      "source": [
        "### Binary Classification Problem"
      ]
    },
    {
      "cell_type": "markdown",
      "metadata": {
        "id": "_LgtDJu2lJc0",
        "colab_type": "text"
      },
      "source": [
        "#### Data Preparation"
      ]
    },
    {
      "cell_type": "code",
      "metadata": {
        "id": "78dGFeWnh9ac",
        "colab_type": "code",
        "colab": {}
      },
      "source": [
        "# Create a binary target variable using median_house_value, above average and below average value\n",
        "above_avg = model_data[model_data['median_house_value']>= model_data['median_house_value'].mean()]\n",
        "below_avg = model_data[model_data['median_house_value']< model_data['median_house_value'].mean()]"
      ],
      "execution_count": 0,
      "outputs": []
    },
    {
      "cell_type": "code",
      "metadata": {
        "id": "3puqK8xLhbRz",
        "colab_type": "code",
        "outputId": "06b957a1-93b0-407a-8937-3a03ae22cd77",
        "colab": {
          "base_uri": "https://localhost:8080/",
          "height": 528
        }
      },
      "source": [
        "above_avg['above_avg_price'] = 1\n",
        "below_avg['above_avg_price'] = 0\n",
        "binary_model_data = pd.concat([above_avg,below_avg], axis=0)\n",
        "binary_model_data.head()"
      ],
      "execution_count": 75,
      "outputs": [
        {
          "output_type": "stream",
          "text": [
            "/usr/local/lib/python3.6/dist-packages/ipykernel_launcher.py:1: SettingWithCopyWarning: \n",
            "A value is trying to be set on a copy of a slice from a DataFrame.\n",
            "Try using .loc[row_indexer,col_indexer] = value instead\n",
            "\n",
            "See the caveats in the documentation: http://pandas.pydata.org/pandas-docs/stable/user_guide/indexing.html#returning-a-view-versus-a-copy\n",
            "  \"\"\"Entry point for launching an IPython kernel.\n",
            "/usr/local/lib/python3.6/dist-packages/ipykernel_launcher.py:2: SettingWithCopyWarning: \n",
            "A value is trying to be set on a copy of a slice from a DataFrame.\n",
            "Try using .loc[row_indexer,col_indexer] = value instead\n",
            "\n",
            "See the caveats in the documentation: http://pandas.pydata.org/pandas-docs/stable/user_guide/indexing.html#returning-a-view-versus-a-copy\n",
            "  \n"
          ],
          "name": "stderr"
        },
        {
          "output_type": "execute_result",
          "data": {
            "text/html": [
              "<div>\n",
              "<style scoped>\n",
              "    .dataframe tbody tr th:only-of-type {\n",
              "        vertical-align: middle;\n",
              "    }\n",
              "\n",
              "    .dataframe tbody tr th {\n",
              "        vertical-align: top;\n",
              "    }\n",
              "\n",
              "    .dataframe thead th {\n",
              "        text-align: right;\n",
              "    }\n",
              "</style>\n",
              "<table border=\"1\" class=\"dataframe\">\n",
              "  <thead>\n",
              "    <tr style=\"text-align: right;\">\n",
              "      <th></th>\n",
              "      <th>housing_median_age</th>\n",
              "      <th>total_rooms</th>\n",
              "      <th>total_bedrooms</th>\n",
              "      <th>population</th>\n",
              "      <th>households</th>\n",
              "      <th>median_income</th>\n",
              "      <th>median_house_value</th>\n",
              "      <th>ocean_proximity_INLAND</th>\n",
              "      <th>ocean_proximity_ISLAND</th>\n",
              "      <th>ocean_proximity_NEAR BAY</th>\n",
              "      <th>ocean_proximity_NEAR OCEAN</th>\n",
              "      <th>Percentiles</th>\n",
              "      <th>above_avg_price</th>\n",
              "    </tr>\n",
              "  </thead>\n",
              "  <tbody>\n",
              "    <tr>\n",
              "      <th>1</th>\n",
              "      <td>0.450980</td>\n",
              "      <td>0.072893</td>\n",
              "      <td>0.081626</td>\n",
              "      <td>0.035903</td>\n",
              "      <td>0.079921</td>\n",
              "      <td>0.194363</td>\n",
              "      <td>213000.0</td>\n",
              "      <td>1</td>\n",
              "      <td>0</td>\n",
              "      <td>0</td>\n",
              "      <td>0</td>\n",
              "      <td>Average House</td>\n",
              "      <td>1</td>\n",
              "    </tr>\n",
              "    <tr>\n",
              "      <th>7</th>\n",
              "      <td>0.803922</td>\n",
              "      <td>0.083677</td>\n",
              "      <td>0.110490</td>\n",
              "      <td>0.062250</td>\n",
              "      <td>0.110673</td>\n",
              "      <td>0.210466</td>\n",
              "      <td>291500.0</td>\n",
              "      <td>0</td>\n",
              "      <td>0</td>\n",
              "      <td>0</td>\n",
              "      <td>0</td>\n",
              "      <td>Expensive House</td>\n",
              "      <td>1</td>\n",
              "    </tr>\n",
              "    <tr>\n",
              "      <th>9</th>\n",
              "      <td>0.568627</td>\n",
              "      <td>0.070197</td>\n",
              "      <td>0.091868</td>\n",
              "      <td>0.044228</td>\n",
              "      <td>0.082388</td>\n",
              "      <td>0.317258</td>\n",
              "      <td>319400.0</td>\n",
              "      <td>0</td>\n",
              "      <td>0</td>\n",
              "      <td>0</td>\n",
              "      <td>1</td>\n",
              "      <td>Expensive House</td>\n",
              "      <td>1</td>\n",
              "    </tr>\n",
              "    <tr>\n",
              "      <th>13</th>\n",
              "      <td>1.000000</td>\n",
              "      <td>0.048349</td>\n",
              "      <td>0.071384</td>\n",
              "      <td>0.023207</td>\n",
              "      <td>0.071041</td>\n",
              "      <td>0.272169</td>\n",
              "      <td>500001.0</td>\n",
              "      <td>0</td>\n",
              "      <td>0</td>\n",
              "      <td>1</td>\n",
              "      <td>0</td>\n",
              "      <td>Expensive House</td>\n",
              "      <td>1</td>\n",
              "    </tr>\n",
              "    <tr>\n",
              "      <th>15</th>\n",
              "      <td>1.000000</td>\n",
              "      <td>0.056107</td>\n",
              "      <td>0.063315</td>\n",
              "      <td>0.022086</td>\n",
              "      <td>0.066930</td>\n",
              "      <td>0.368333</td>\n",
              "      <td>500000.0</td>\n",
              "      <td>0</td>\n",
              "      <td>0</td>\n",
              "      <td>0</td>\n",
              "      <td>1</td>\n",
              "      <td>Expensive House</td>\n",
              "      <td>1</td>\n",
              "    </tr>\n",
              "  </tbody>\n",
              "</table>\n",
              "</div>"
            ],
            "text/plain": [
              "    housing_median_age  total_rooms  ...      Percentiles  above_avg_price\n",
              "1             0.450980     0.072893  ...    Average House                1\n",
              "7             0.803922     0.083677  ...  Expensive House                1\n",
              "9             0.568627     0.070197  ...  Expensive House                1\n",
              "13            1.000000     0.048349  ...  Expensive House                1\n",
              "15            1.000000     0.056107  ...  Expensive House                1\n",
              "\n",
              "[5 rows x 13 columns]"
            ]
          },
          "metadata": {
            "tags": []
          },
          "execution_count": 75
        }
      ]
    },
    {
      "cell_type": "markdown",
      "metadata": {
        "id": "tE5MCrtUlOMr",
        "colab_type": "text"
      },
      "source": [
        "#### Model Fitting"
      ]
    },
    {
      "cell_type": "code",
      "metadata": {
        "id": "_-8WVGkvlZ8V",
        "colab_type": "code",
        "colab": {}
      },
      "source": [
        "binary_model_data = binary_model_data.drop(['median_house_value'],axis=1)"
      ],
      "execution_count": 0,
      "outputs": []
    },
    {
      "cell_type": "code",
      "metadata": {
        "id": "ct8wzfNykmSi",
        "colab_type": "code",
        "outputId": "b9eddbf1-7474-41f3-bdb7-22c9afe29ad4",
        "colab": {
          "base_uri": "https://localhost:8080/",
          "height": 315
        }
      },
      "source": [
        "# Shuffle the data randomly (the rows)\n",
        "binary_model_data = shuffle(binary_model_data, random_state=123).reset_index(drop=True)\n",
        "binary_model_data.head()"
      ],
      "execution_count": 77,
      "outputs": [
        {
          "output_type": "execute_result",
          "data": {
            "text/html": [
              "<div>\n",
              "<style scoped>\n",
              "    .dataframe tbody tr th:only-of-type {\n",
              "        vertical-align: middle;\n",
              "    }\n",
              "\n",
              "    .dataframe tbody tr th {\n",
              "        vertical-align: top;\n",
              "    }\n",
              "\n",
              "    .dataframe thead th {\n",
              "        text-align: right;\n",
              "    }\n",
              "</style>\n",
              "<table border=\"1\" class=\"dataframe\">\n",
              "  <thead>\n",
              "    <tr style=\"text-align: right;\">\n",
              "      <th></th>\n",
              "      <th>housing_median_age</th>\n",
              "      <th>total_rooms</th>\n",
              "      <th>total_bedrooms</th>\n",
              "      <th>population</th>\n",
              "      <th>households</th>\n",
              "      <th>median_income</th>\n",
              "      <th>ocean_proximity_INLAND</th>\n",
              "      <th>ocean_proximity_ISLAND</th>\n",
              "      <th>ocean_proximity_NEAR BAY</th>\n",
              "      <th>ocean_proximity_NEAR OCEAN</th>\n",
              "      <th>Percentiles</th>\n",
              "      <th>above_avg_price</th>\n",
              "    </tr>\n",
              "  </thead>\n",
              "  <tbody>\n",
              "    <tr>\n",
              "      <th>0</th>\n",
              "      <td>0.431373</td>\n",
              "      <td>0.058574</td>\n",
              "      <td>0.083333</td>\n",
              "      <td>0.069789</td>\n",
              "      <td>0.082388</td>\n",
              "      <td>0.218059</td>\n",
              "      <td>0</td>\n",
              "      <td>0</td>\n",
              "      <td>0</td>\n",
              "      <td>0</td>\n",
              "      <td>Average House</td>\n",
              "      <td>0</td>\n",
              "    </tr>\n",
              "    <tr>\n",
              "      <th>1</th>\n",
              "      <td>0.392157</td>\n",
              "      <td>0.097207</td>\n",
              "      <td>0.098231</td>\n",
              "      <td>0.050870</td>\n",
              "      <td>0.098504</td>\n",
              "      <td>0.221521</td>\n",
              "      <td>1</td>\n",
              "      <td>0</td>\n",
              "      <td>0</td>\n",
              "      <td>0</td>\n",
              "      <td>Cheaper House</td>\n",
              "      <td>0</td>\n",
              "    </tr>\n",
              "    <tr>\n",
              "      <th>2</th>\n",
              "      <td>0.294118</td>\n",
              "      <td>0.038074</td>\n",
              "      <td>0.050435</td>\n",
              "      <td>0.020460</td>\n",
              "      <td>0.046867</td>\n",
              "      <td>0.142964</td>\n",
              "      <td>1</td>\n",
              "      <td>0</td>\n",
              "      <td>0</td>\n",
              "      <td>0</td>\n",
              "      <td>Cheaper House</td>\n",
              "      <td>0</td>\n",
              "    </tr>\n",
              "    <tr>\n",
              "      <th>3</th>\n",
              "      <td>0.843137</td>\n",
              "      <td>0.042627</td>\n",
              "      <td>0.079609</td>\n",
              "      <td>0.047563</td>\n",
              "      <td>0.081237</td>\n",
              "      <td>0.108978</td>\n",
              "      <td>0</td>\n",
              "      <td>0</td>\n",
              "      <td>1</td>\n",
              "      <td>0</td>\n",
              "      <td>Cheaper House</td>\n",
              "      <td>0</td>\n",
              "    </tr>\n",
              "    <tr>\n",
              "      <th>4</th>\n",
              "      <td>1.000000</td>\n",
              "      <td>0.059744</td>\n",
              "      <td>0.071074</td>\n",
              "      <td>0.032680</td>\n",
              "      <td>0.072028</td>\n",
              "      <td>0.164998</td>\n",
              "      <td>0</td>\n",
              "      <td>0</td>\n",
              "      <td>0</td>\n",
              "      <td>0</td>\n",
              "      <td>Average House</td>\n",
              "      <td>0</td>\n",
              "    </tr>\n",
              "  </tbody>\n",
              "</table>\n",
              "</div>"
            ],
            "text/plain": [
              "   housing_median_age  total_rooms  ...    Percentiles  above_avg_price\n",
              "0            0.431373     0.058574  ...  Average House                0\n",
              "1            0.392157     0.097207  ...  Cheaper House                0\n",
              "2            0.294118     0.038074  ...  Cheaper House                0\n",
              "3            0.843137     0.042627  ...  Cheaper House                0\n",
              "4            1.000000     0.059744  ...  Average House                0\n",
              "\n",
              "[5 rows x 12 columns]"
            ]
          },
          "metadata": {
            "tags": []
          },
          "execution_count": 77
        }
      ]
    },
    {
      "cell_type": "code",
      "metadata": {
        "id": "YIVeFnOemEqm",
        "colab_type": "code",
        "outputId": "3e7163fd-825f-4431-a876-54c6e2437dcc",
        "colab": {
          "base_uri": "https://localhost:8080/",
          "height": 52
        }
      },
      "source": [
        "# Do an 8:2 for training/validation split.\n",
        "X = binary_model_data.drop([\"above_avg_price\",\"Percentiles\"], axis=1)\n",
        "y = binary_model_data[\"above_avg_price\"]\n",
        "\n",
        "X_train, X_test, y_train, y_test = train_test_split(X, y, test_size=0.2, random_state= 525)\n",
        "print(X_train.shape)\n",
        "print(X_test.shape)"
      ],
      "execution_count": 78,
      "outputs": [
        {
          "output_type": "stream",
          "text": [
            "(16346, 10)\n",
            "(4087, 10)\n"
          ],
          "name": "stdout"
        }
      ]
    },
    {
      "cell_type": "code",
      "metadata": {
        "id": "-p0fe7EmoV2j",
        "colab_type": "code",
        "outputId": "c93d668a-0604-42c9-f51e-e844980d2e1a",
        "colab": {
          "base_uri": "https://localhost:8080/",
          "height": 1000
        }
      },
      "source": [
        "# Fit a neural network\n",
        "\n",
        "# Model 1\n",
        "def create_model1():\n",
        "    model1 = Sequential()\n",
        "    model1.add(Dense(32, input_dim=10, activation='relu'))\n",
        "    model1.add(Dropout(0.2))\n",
        "    model1.add(Dense(32, activation='relu'))\n",
        "    model1.add(Dropout(0.2))\n",
        "    model1.add(Dense(1, activation='sigmoid'))\n",
        "    model1.compile(loss='binary_crossentropy', optimizer='adam', metrics=['accuracy'])\n",
        "    return model1\n",
        "model1 = KerasClassifier(build_fn=create_model1)\n",
        "\n",
        "batch_size = [10, 20]\n",
        "epochs = [25, 50]\n",
        "param_grid = dict(batch_size=batch_size, epochs=epochs)\n",
        "M1_best_model = GridSearchCV(estimator=model1, cv=3, param_grid=param_grid, n_jobs=-1)\n",
        "M1_model = M1_best_model.fit(X_train, y_train)\n",
        "print(\"Best: %f using %s\" % (M1_best_model.best_score_, M1_best_model.best_params_))"
      ],
      "execution_count": 67,
      "outputs": [
        {
          "output_type": "stream",
          "text": [
            "Epoch 1/50\n",
            "16346/16346 [==============================] - 3s 168us/step - loss: 0.4961 - acc: 0.7440\n",
            "Epoch 2/50\n",
            "16346/16346 [==============================] - 2s 138us/step - loss: 0.4242 - acc: 0.7974\n",
            "Epoch 3/50\n",
            "16346/16346 [==============================] - 2s 141us/step - loss: 0.4101 - acc: 0.8075\n",
            "Epoch 4/50\n",
            "16346/16346 [==============================] - 2s 142us/step - loss: 0.3996 - acc: 0.8161\n",
            "Epoch 5/50\n",
            "16346/16346 [==============================] - 2s 141us/step - loss: 0.3942 - acc: 0.8186\n",
            "Epoch 6/50\n",
            "16346/16346 [==============================] - 2s 141us/step - loss: 0.3880 - acc: 0.8244\n",
            "Epoch 7/50\n",
            "16346/16346 [==============================] - 2s 144us/step - loss: 0.3858 - acc: 0.8241\n",
            "Epoch 8/50\n",
            "16346/16346 [==============================] - 2s 139us/step - loss: 0.3846 - acc: 0.8282\n",
            "Epoch 9/50\n",
            "16346/16346 [==============================] - 2s 140us/step - loss: 0.3806 - acc: 0.8277\n",
            "Epoch 10/50\n",
            "16346/16346 [==============================] - 2s 144us/step - loss: 0.3767 - acc: 0.8317\n",
            "Epoch 11/50\n",
            "16346/16346 [==============================] - 2s 146us/step - loss: 0.3769 - acc: 0.8312\n",
            "Epoch 12/50\n",
            "16346/16346 [==============================] - 2s 146us/step - loss: 0.3753 - acc: 0.8314\n",
            "Epoch 13/50\n",
            "16346/16346 [==============================] - 2s 144us/step - loss: 0.3731 - acc: 0.8312\n",
            "Epoch 14/50\n",
            "16346/16346 [==============================] - 2s 139us/step - loss: 0.3705 - acc: 0.8311\n",
            "Epoch 15/50\n",
            "16346/16346 [==============================] - 2s 142us/step - loss: 0.3687 - acc: 0.8349\n",
            "Epoch 16/50\n",
            "16346/16346 [==============================] - 2s 142us/step - loss: 0.3659 - acc: 0.8371\n",
            "Epoch 17/50\n",
            "16346/16346 [==============================] - 2s 141us/step - loss: 0.3669 - acc: 0.8347\n",
            "Epoch 18/50\n",
            "16346/16346 [==============================] - 2s 138us/step - loss: 0.3645 - acc: 0.8374\n",
            "Epoch 19/50\n",
            "16346/16346 [==============================] - 2s 137us/step - loss: 0.3689 - acc: 0.8345\n",
            "Epoch 20/50\n",
            "16346/16346 [==============================] - 2s 134us/step - loss: 0.3657 - acc: 0.8373\n",
            "Epoch 21/50\n",
            "16346/16346 [==============================] - 2s 139us/step - loss: 0.3647 - acc: 0.8379\n",
            "Epoch 22/50\n",
            "16346/16346 [==============================] - 2s 140us/step - loss: 0.3647 - acc: 0.8345\n",
            "Epoch 23/50\n",
            "16346/16346 [==============================] - 2s 138us/step - loss: 0.3638 - acc: 0.8386\n",
            "Epoch 24/50\n",
            "16346/16346 [==============================] - 2s 139us/step - loss: 0.3645 - acc: 0.8381\n",
            "Epoch 25/50\n",
            "16346/16346 [==============================] - 2s 146us/step - loss: 0.3606 - acc: 0.8395\n",
            "Epoch 26/50\n",
            "16346/16346 [==============================] - 2s 141us/step - loss: 0.3614 - acc: 0.8363\n",
            "Epoch 27/50\n",
            "16346/16346 [==============================] - 2s 147us/step - loss: 0.3634 - acc: 0.8364\n",
            "Epoch 28/50\n",
            "16346/16346 [==============================] - 2s 144us/step - loss: 0.3610 - acc: 0.8376\n",
            "Epoch 29/50\n",
            "16346/16346 [==============================] - 2s 143us/step - loss: 0.3622 - acc: 0.8381\n",
            "Epoch 30/50\n",
            "16346/16346 [==============================] - 2s 142us/step - loss: 0.3596 - acc: 0.8385\n",
            "Epoch 31/50\n",
            "16346/16346 [==============================] - 2s 142us/step - loss: 0.3610 - acc: 0.8382\n",
            "Epoch 32/50\n",
            "16346/16346 [==============================] - 2s 142us/step - loss: 0.3572 - acc: 0.8411\n",
            "Epoch 33/50\n",
            "16346/16346 [==============================] - 2s 145us/step - loss: 0.3580 - acc: 0.8416\n",
            "Epoch 34/50\n",
            "16346/16346 [==============================] - 2s 138us/step - loss: 0.3594 - acc: 0.8388\n",
            "Epoch 35/50\n",
            "16346/16346 [==============================] - 2s 141us/step - loss: 0.3573 - acc: 0.8389\n",
            "Epoch 36/50\n",
            "16346/16346 [==============================] - 2s 147us/step - loss: 0.3587 - acc: 0.8384\n",
            "Epoch 37/50\n",
            "16346/16346 [==============================] - 3s 153us/step - loss: 0.3581 - acc: 0.8403\n",
            "Epoch 38/50\n",
            "16346/16346 [==============================] - 3s 155us/step - loss: 0.3581 - acc: 0.8397\n",
            "Epoch 39/50\n",
            "16346/16346 [==============================] - 2s 152us/step - loss: 0.3584 - acc: 0.8381\n",
            "Epoch 40/50\n",
            "16346/16346 [==============================] - 2s 147us/step - loss: 0.3589 - acc: 0.8401\n",
            "Epoch 41/50\n",
            "16346/16346 [==============================] - 2s 142us/step - loss: 0.3564 - acc: 0.8411\n",
            "Epoch 42/50\n",
            "16346/16346 [==============================] - 2s 145us/step - loss: 0.3575 - acc: 0.8411\n",
            "Epoch 43/50\n",
            "16346/16346 [==============================] - 2s 140us/step - loss: 0.3571 - acc: 0.8416\n",
            "Epoch 44/50\n",
            "16346/16346 [==============================] - 2s 144us/step - loss: 0.3590 - acc: 0.8411\n",
            "Epoch 45/50\n",
            "16346/16346 [==============================] - 2s 141us/step - loss: 0.3557 - acc: 0.8417\n",
            "Epoch 46/50\n",
            "16346/16346 [==============================] - 2s 139us/step - loss: 0.3562 - acc: 0.8397\n",
            "Epoch 47/50\n",
            "16346/16346 [==============================] - 2s 137us/step - loss: 0.3562 - acc: 0.8378\n",
            "Epoch 48/50\n",
            "16346/16346 [==============================] - 2s 140us/step - loss: 0.3569 - acc: 0.8385\n",
            "Epoch 49/50\n",
            "16346/16346 [==============================] - 2s 139us/step - loss: 0.3571 - acc: 0.8403\n",
            "Epoch 50/50\n",
            "16346/16346 [==============================] - 2s 143us/step - loss: 0.3577 - acc: 0.8403\n",
            "Best: 0.841674 using {'batch_size': 10, 'epochs': 50}\n"
          ],
          "name": "stdout"
        }
      ]
    },
    {
      "cell_type": "code",
      "metadata": {
        "id": "6T4MXEfPZkMh",
        "colab_type": "code",
        "outputId": "508aa547-6c70-4aee-a8bf-5bd438fe86fd",
        "colab": {
          "base_uri": "https://localhost:8080/",
          "height": 1000
        }
      },
      "source": [
        "# Model 2\n",
        "def create_model2():\n",
        "    model2 = Sequential()\n",
        "    model2.add(Dense(64, input_dim=10, activation='relu'))\n",
        "    model2.add(Dropout(0.5))\n",
        "    model2.add(Dense(64, activation='relu'))\n",
        "    model2.add(Dropout(0.5))\n",
        "    model2.add(Dense(1, activation='sigmoid'))\n",
        "    model2.compile(loss='binary_crossentropy', optimizer='adam', metrics=['accuracy'])\n",
        "    return model2\n",
        "\n",
        "model2 = KerasClassifier(build_fn=create_model2)\n",
        "\n",
        "batch_size = [10, 20]\n",
        "epochs = [25, 50]\n",
        "param_grid = dict(batch_size=batch_size, epochs=epochs)\n",
        "M2_best_model = GridSearchCV(estimator=model2, cv=3, param_grid=param_grid, n_jobs=-1)\n",
        "M2_model = M2_best_model.fit(X_train, y_train)\n",
        "print(\"Best: %f using %s\" % (M2_best_model.best_score_, M2_best_model.best_params_))"
      ],
      "execution_count": 70,
      "outputs": [
        {
          "output_type": "stream",
          "text": [
            "Epoch 1/50\n",
            "16346/16346 [==============================] - 2s 117us/step - loss: 0.5093 - acc: 0.7364\n",
            "Epoch 2/50\n",
            "16346/16346 [==============================] - 1s 77us/step - loss: 0.4317 - acc: 0.7958\n",
            "Epoch 3/50\n",
            "16346/16346 [==============================] - 1s 75us/step - loss: 0.4147 - acc: 0.8092\n",
            "Epoch 4/50\n",
            "16346/16346 [==============================] - 1s 76us/step - loss: 0.4080 - acc: 0.8132\n",
            "Epoch 5/50\n",
            "16346/16346 [==============================] - 1s 74us/step - loss: 0.4013 - acc: 0.8181\n",
            "Epoch 6/50\n",
            "16346/16346 [==============================] - 1s 73us/step - loss: 0.4015 - acc: 0.8183\n",
            "Epoch 7/50\n",
            "16346/16346 [==============================] - 1s 75us/step - loss: 0.3954 - acc: 0.8197\n",
            "Epoch 8/50\n",
            "16346/16346 [==============================] - 1s 77us/step - loss: 0.3937 - acc: 0.8198\n",
            "Epoch 9/50\n",
            "16346/16346 [==============================] - 1s 73us/step - loss: 0.3913 - acc: 0.8251\n",
            "Epoch 10/50\n",
            "16346/16346 [==============================] - 1s 77us/step - loss: 0.3887 - acc: 0.8232\n",
            "Epoch 11/50\n",
            "16346/16346 [==============================] - 1s 76us/step - loss: 0.3889 - acc: 0.8252\n",
            "Epoch 12/50\n",
            "16346/16346 [==============================] - 1s 75us/step - loss: 0.3884 - acc: 0.8249\n",
            "Epoch 13/50\n",
            "16346/16346 [==============================] - 1s 73us/step - loss: 0.3841 - acc: 0.8282\n",
            "Epoch 14/50\n",
            "16346/16346 [==============================] - 1s 79us/step - loss: 0.3841 - acc: 0.8297\n",
            "Epoch 15/50\n",
            "16346/16346 [==============================] - 1s 76us/step - loss: 0.3818 - acc: 0.8267\n",
            "Epoch 16/50\n",
            "16346/16346 [==============================] - 1s 76us/step - loss: 0.3804 - acc: 0.8262\n",
            "Epoch 17/50\n",
            "16346/16346 [==============================] - 1s 76us/step - loss: 0.3796 - acc: 0.8302\n",
            "Epoch 18/50\n",
            "16346/16346 [==============================] - 1s 76us/step - loss: 0.3802 - acc: 0.8267\n",
            "Epoch 19/50\n",
            "16346/16346 [==============================] - 1s 76us/step - loss: 0.3774 - acc: 0.8304\n",
            "Epoch 20/50\n",
            "16346/16346 [==============================] - 1s 76us/step - loss: 0.3745 - acc: 0.8321\n",
            "Epoch 21/50\n",
            "16346/16346 [==============================] - 1s 75us/step - loss: 0.3784 - acc: 0.8323\n",
            "Epoch 22/50\n",
            "16346/16346 [==============================] - 1s 76us/step - loss: 0.3770 - acc: 0.8310\n",
            "Epoch 23/50\n",
            "16346/16346 [==============================] - 1s 76us/step - loss: 0.3750 - acc: 0.8321\n",
            "Epoch 24/50\n",
            "16346/16346 [==============================] - 1s 76us/step - loss: 0.3746 - acc: 0.8348\n",
            "Epoch 25/50\n",
            "16346/16346 [==============================] - 1s 77us/step - loss: 0.3756 - acc: 0.8313\n",
            "Epoch 26/50\n",
            "16346/16346 [==============================] - 1s 79us/step - loss: 0.3739 - acc: 0.8336\n",
            "Epoch 27/50\n",
            "16346/16346 [==============================] - 1s 77us/step - loss: 0.3732 - acc: 0.8332\n",
            "Epoch 28/50\n",
            "16346/16346 [==============================] - 1s 80us/step - loss: 0.3726 - acc: 0.8332\n",
            "Epoch 29/50\n",
            "16346/16346 [==============================] - 1s 78us/step - loss: 0.3722 - acc: 0.8346\n",
            "Epoch 30/50\n",
            "16346/16346 [==============================] - 1s 79us/step - loss: 0.3697 - acc: 0.8336\n",
            "Epoch 31/50\n",
            "16346/16346 [==============================] - 1s 79us/step - loss: 0.3710 - acc: 0.8347\n",
            "Epoch 32/50\n",
            "16346/16346 [==============================] - 1s 79us/step - loss: 0.3705 - acc: 0.8359\n",
            "Epoch 33/50\n",
            "16346/16346 [==============================] - 1s 79us/step - loss: 0.3708 - acc: 0.8359\n",
            "Epoch 34/50\n",
            "16346/16346 [==============================] - 1s 77us/step - loss: 0.3694 - acc: 0.8376\n",
            "Epoch 35/50\n",
            "16346/16346 [==============================] - 1s 77us/step - loss: 0.3716 - acc: 0.8315\n",
            "Epoch 36/50\n",
            "16346/16346 [==============================] - 1s 77us/step - loss: 0.3698 - acc: 0.8354\n",
            "Epoch 37/50\n",
            "16346/16346 [==============================] - 1s 78us/step - loss: 0.3704 - acc: 0.8362\n",
            "Epoch 38/50\n",
            "16346/16346 [==============================] - 1s 76us/step - loss: 0.3688 - acc: 0.8341\n",
            "Epoch 39/50\n",
            "16346/16346 [==============================] - 1s 76us/step - loss: 0.3668 - acc: 0.8357\n",
            "Epoch 40/50\n",
            "16346/16346 [==============================] - 1s 79us/step - loss: 0.3692 - acc: 0.8353\n",
            "Epoch 41/50\n",
            "16346/16346 [==============================] - 1s 79us/step - loss: 0.3651 - acc: 0.8369\n",
            "Epoch 42/50\n",
            "16346/16346 [==============================] - 1s 75us/step - loss: 0.3671 - acc: 0.8368\n",
            "Epoch 43/50\n",
            "16346/16346 [==============================] - 1s 75us/step - loss: 0.3647 - acc: 0.8366\n",
            "Epoch 44/50\n",
            "16346/16346 [==============================] - 1s 76us/step - loss: 0.3691 - acc: 0.8363\n",
            "Epoch 45/50\n",
            "16346/16346 [==============================] - 1s 78us/step - loss: 0.3670 - acc: 0.8353\n",
            "Epoch 46/50\n",
            "16346/16346 [==============================] - 1s 77us/step - loss: 0.3654 - acc: 0.8365\n",
            "Epoch 47/50\n",
            "16346/16346 [==============================] - 1s 78us/step - loss: 0.3692 - acc: 0.8347\n",
            "Epoch 48/50\n",
            "16346/16346 [==============================] - 1s 79us/step - loss: 0.3682 - acc: 0.8340\n",
            "Epoch 49/50\n",
            "16346/16346 [==============================] - 1s 80us/step - loss: 0.3637 - acc: 0.8382\n",
            "Epoch 50/50\n",
            "16346/16346 [==============================] - 1s 77us/step - loss: 0.3654 - acc: 0.8374\n",
            "Best: 0.839288 using {'batch_size': 20, 'epochs': 50}\n"
          ],
          "name": "stdout"
        }
      ]
    },
    {
      "cell_type": "code",
      "metadata": {
        "id": "s4kn7HvQj7p2",
        "colab_type": "code",
        "outputId": "d5e5baf3-8190-455c-b8b8-3e082b5041ff",
        "colab": {
          "base_uri": "https://localhost:8080/",
          "height": 1000
        }
      },
      "source": [
        "# Model 3\n",
        "def create_model3():\n",
        "    model3 = Sequential()\n",
        "    model3.add(Dense(16, input_dim=10, activation='relu'))\n",
        "    model3.add(Dropout(0.3))\n",
        "    model3.add(Dense(16, activation='relu'))\n",
        "    model3.add(Dropout(0.3))\n",
        "    model3.add(Dense(1, activation='sigmoid'))\n",
        "    model3.compile(loss='binary_crossentropy', optimizer='adam', metrics=['accuracy'])\n",
        "    return model3\n",
        "model3 = KerasClassifier(build_fn=create_model3)\n",
        "batch_size = [10, 20]\n",
        "epochs = [25, 50]\n",
        "param_grid = dict(batch_size=batch_size, epochs=epochs)\n",
        "M3_best_model = GridSearchCV(estimator=model3, cv=3, param_grid=param_grid, n_jobs=-1)\n",
        "M3_model = M3_best_model.fit(X_train, y_train)\n",
        "print(\"Best: %f using %s\" % (M3_best_model.best_score_, M3_best_model.best_params_))"
      ],
      "execution_count": 71,
      "outputs": [
        {
          "output_type": "stream",
          "text": [
            "/usr/local/lib/python3.6/dist-packages/joblib/externals/loky/process_executor.py:706: UserWarning: A worker stopped while some jobs were given to the executor. This can be caused by a too short worker timeout or by a memory leak.\n",
            "  \"timeout or by a memory leak.\", UserWarning\n"
          ],
          "name": "stderr"
        },
        {
          "output_type": "stream",
          "text": [
            "Epoch 1/50\n",
            "16346/16346 [==============================] - 2s 110us/step - loss: 0.5616 - acc: 0.7046\n",
            "Epoch 2/50\n",
            "16346/16346 [==============================] - 1s 71us/step - loss: 0.4686 - acc: 0.7727\n",
            "Epoch 3/50\n",
            "16346/16346 [==============================] - 1s 72us/step - loss: 0.4373 - acc: 0.7948\n",
            "Epoch 4/50\n",
            "16346/16346 [==============================] - 1s 72us/step - loss: 0.4292 - acc: 0.8003\n",
            "Epoch 5/50\n",
            "16346/16346 [==============================] - 1s 70us/step - loss: 0.4177 - acc: 0.8067\n",
            "Epoch 6/50\n",
            "16346/16346 [==============================] - 1s 73us/step - loss: 0.4145 - acc: 0.8093\n",
            "Epoch 7/50\n",
            "16346/16346 [==============================] - 1s 72us/step - loss: 0.4140 - acc: 0.8140\n",
            "Epoch 8/50\n",
            "16346/16346 [==============================] - 1s 70us/step - loss: 0.4075 - acc: 0.8133\n",
            "Epoch 9/50\n",
            "16346/16346 [==============================] - 1s 70us/step - loss: 0.4042 - acc: 0.8163\n",
            "Epoch 10/50\n",
            "16346/16346 [==============================] - 1s 69us/step - loss: 0.4014 - acc: 0.8203\n",
            "Epoch 11/50\n",
            "16346/16346 [==============================] - 1s 68us/step - loss: 0.4011 - acc: 0.8230\n",
            "Epoch 12/50\n",
            "16346/16346 [==============================] - 1s 72us/step - loss: 0.3998 - acc: 0.8200\n",
            "Epoch 13/50\n",
            "16346/16346 [==============================] - 1s 72us/step - loss: 0.3971 - acc: 0.8236\n",
            "Epoch 14/50\n",
            "16346/16346 [==============================] - 1s 73us/step - loss: 0.3990 - acc: 0.8215\n",
            "Epoch 15/50\n",
            "16346/16346 [==============================] - 1s 74us/step - loss: 0.3930 - acc: 0.8245\n",
            "Epoch 16/50\n",
            "16346/16346 [==============================] - 1s 76us/step - loss: 0.3944 - acc: 0.8233\n",
            "Epoch 17/50\n",
            "16346/16346 [==============================] - 1s 73us/step - loss: 0.3921 - acc: 0.8256\n",
            "Epoch 18/50\n",
            "16346/16346 [==============================] - 1s 73us/step - loss: 0.3921 - acc: 0.8217\n",
            "Epoch 19/50\n",
            "16346/16346 [==============================] - 1s 72us/step - loss: 0.3886 - acc: 0.8284\n",
            "Epoch 20/50\n",
            "16346/16346 [==============================] - 1s 70us/step - loss: 0.3896 - acc: 0.8274\n",
            "Epoch 21/50\n",
            "16346/16346 [==============================] - 1s 71us/step - loss: 0.3874 - acc: 0.8272\n",
            "Epoch 22/50\n",
            "16346/16346 [==============================] - 1s 74us/step - loss: 0.3874 - acc: 0.8274\n",
            "Epoch 23/50\n",
            "16346/16346 [==============================] - 1s 72us/step - loss: 0.3878 - acc: 0.8277\n",
            "Epoch 24/50\n",
            "16346/16346 [==============================] - 1s 72us/step - loss: 0.3896 - acc: 0.8251\n",
            "Epoch 25/50\n",
            "16346/16346 [==============================] - 1s 74us/step - loss: 0.3864 - acc: 0.8299\n",
            "Epoch 26/50\n",
            "16346/16346 [==============================] - 1s 72us/step - loss: 0.3839 - acc: 0.8283\n",
            "Epoch 27/50\n",
            "16346/16346 [==============================] - 1s 70us/step - loss: 0.3842 - acc: 0.8304\n",
            "Epoch 28/50\n",
            "16346/16346 [==============================] - 1s 70us/step - loss: 0.3858 - acc: 0.8314\n",
            "Epoch 29/50\n",
            "16346/16346 [==============================] - 1s 74us/step - loss: 0.3818 - acc: 0.8308\n",
            "Epoch 30/50\n",
            "16346/16346 [==============================] - 1s 73us/step - loss: 0.3822 - acc: 0.8302\n",
            "Epoch 31/50\n",
            "16346/16346 [==============================] - 1s 70us/step - loss: 0.3815 - acc: 0.8347\n",
            "Epoch 32/50\n",
            "16346/16346 [==============================] - 1s 70us/step - loss: 0.3827 - acc: 0.8329\n",
            "Epoch 33/50\n",
            "16346/16346 [==============================] - 1s 72us/step - loss: 0.3819 - acc: 0.8323\n",
            "Epoch 34/50\n",
            "16346/16346 [==============================] - 1s 68us/step - loss: 0.3833 - acc: 0.8299\n",
            "Epoch 35/50\n",
            "16346/16346 [==============================] - 1s 68us/step - loss: 0.3829 - acc: 0.8290\n",
            "Epoch 36/50\n",
            "16346/16346 [==============================] - 1s 67us/step - loss: 0.3819 - acc: 0.8314\n",
            "Epoch 37/50\n",
            "16346/16346 [==============================] - 1s 67us/step - loss: 0.3801 - acc: 0.8301\n",
            "Epoch 38/50\n",
            "16346/16346 [==============================] - 1s 69us/step - loss: 0.3800 - acc: 0.8298\n",
            "Epoch 39/50\n",
            "16346/16346 [==============================] - 1s 68us/step - loss: 0.3788 - acc: 0.8318\n",
            "Epoch 40/50\n",
            "16346/16346 [==============================] - 1s 70us/step - loss: 0.3759 - acc: 0.8313\n",
            "Epoch 41/50\n",
            "16346/16346 [==============================] - 1s 73us/step - loss: 0.3772 - acc: 0.8338\n",
            "Epoch 42/50\n",
            "16346/16346 [==============================] - 1s 77us/step - loss: 0.3782 - acc: 0.8327\n",
            "Epoch 43/50\n",
            "16346/16346 [==============================] - 1s 74us/step - loss: 0.3772 - acc: 0.8329\n",
            "Epoch 44/50\n",
            "16346/16346 [==============================] - 1s 74us/step - loss: 0.3788 - acc: 0.8348\n",
            "Epoch 45/50\n",
            "16346/16346 [==============================] - 1s 74us/step - loss: 0.3808 - acc: 0.8339\n",
            "Epoch 46/50\n",
            "16346/16346 [==============================] - 1s 74us/step - loss: 0.3776 - acc: 0.8314\n",
            "Epoch 47/50\n",
            "16346/16346 [==============================] - 1s 75us/step - loss: 0.3767 - acc: 0.8322\n",
            "Epoch 48/50\n",
            "16346/16346 [==============================] - 1s 74us/step - loss: 0.3747 - acc: 0.8334\n",
            "Epoch 49/50\n",
            "16346/16346 [==============================] - 1s 75us/step - loss: 0.3775 - acc: 0.8317\n",
            "Epoch 50/50\n",
            "16346/16346 [==============================] - 1s 73us/step - loss: 0.3758 - acc: 0.8325\n",
            "Best: 0.836352 using {'batch_size': 20, 'epochs': 50}\n"
          ],
          "name": "stdout"
        }
      ]
    },
    {
      "cell_type": "markdown",
      "metadata": {
        "id": "vUusm-iXqhNl",
        "colab_type": "text"
      },
      "source": [
        "#### Model Validation"
      ]
    },
    {
      "cell_type": "code",
      "metadata": {
        "colab_type": "code",
        "outputId": "ba3b9196-18b9-4469-9881-7d3b8ed5d05d",
        "id": "RcT2SfJPXB9n",
        "colab": {
          "base_uri": "https://localhost:8080/",
          "height": 70
        }
      },
      "source": [
        "from sklearn.metrics import accuracy_score\n",
        "# Training Accuracy\n",
        "# Model 1 \n",
        "M1_train_y = M1_model.predict(X_train)\n",
        "M1_train_score = accuracy_score(y_train, M1_train_y)\n",
        "print(\"M1 Train Accuracy Score = \", M1_train_score)\n",
        "\n",
        "# Model 2\n",
        "M2_train_y = M2_model.predict(X_train)\n",
        "M2_train_score = accuracy_score(y_train, M2_train_y)\n",
        "print(\"M2 Train Accuracy Score = \", M2_train_score)\n",
        "\n",
        "# Model 3\n",
        "M3_train_y = M3_model.predict(X_train)\n",
        "M3_train_score = accuracy_score(y_train, M3_train_y)\n",
        "print(\"M3 Train Accuracy Score = \", M3_train_score)\n"
      ],
      "execution_count": 81,
      "outputs": [
        {
          "output_type": "stream",
          "text": [
            "M1 Train Accuracy Score =  0.8455891349565643\n",
            "M2 Train Accuracy Score =  0.8404502630612994\n",
            "M3 Train Accuracy Score =  0.8387373057628777\n"
          ],
          "name": "stdout"
        }
      ]
    },
    {
      "cell_type": "code",
      "metadata": {
        "id": "EZAwNdGXunYD",
        "colab_type": "code",
        "outputId": "1ea9149b-3cd3-4bb8-c22d-e3c7d3acc436",
        "colab": {
          "base_uri": "https://localhost:8080/",
          "height": 70
        }
      },
      "source": [
        "# Validation Accuracy\n",
        "# M1 Test \n",
        "M1_test_y = M1_model.predict(X_test)\n",
        "M1_test_score = accuracy_score(y_test, M1_test_y)\n",
        "print(\"M1 Test Accuracy Score = \", M1_test_score)\n",
        "\n",
        "# M2 Test\n",
        "M2_test_y = M2_model.predict(X_test)\n",
        "M2_test_score = accuracy_score(y_test, M2_test_y)\n",
        "print(\"M2 Test Accuracy Score = \", M2_test_score)\n",
        "\n",
        "# M3 Test\n",
        "M3_test_y = M3_model.predict(X_test)\n",
        "M3_test_score = accuracy_score(y_test, M3_test_y)\n",
        "print(\"M3 Test Accuracy Score = \", M3_test_score)\n"
      ],
      "execution_count": 82,
      "outputs": [
        {
          "output_type": "stream",
          "text": [
            "M1 Test Accuracy Score =  0.847320773183264\n",
            "M2 Test Accuracy Score =  0.8443846342060191\n",
            "M3 Test Accuracy Score =  0.8402251039882555\n"
          ],
          "name": "stdout"
        }
      ]
    },
    {
      "cell_type": "code",
      "metadata": {
        "id": "xK9tAW4CvNzI",
        "colab_type": "code",
        "outputId": "2b3f6bda-fafb-443b-a301-c74a3c5d2279",
        "colab": {
          "base_uri": "https://localhost:8080/",
          "height": 106
        }
      },
      "source": [
        "from sklearn.metrics import confusion_matrix, classification_report\n",
        "def get_confusion_matrix_values(y_true, y_pred):\n",
        "  cm=confusion_matrix(y_true, y_pred)\n",
        "  return(cm[0][0], cm[0][1], cm[1][0], cm[1][1])\n",
        "\n",
        "# Confusion Matrix\n",
        "# Model 1 Train\n",
        "pd.DataFrame(confusion_matrix(y_train, M1_train_y))"
      ],
      "execution_count": 96,
      "outputs": [
        {
          "output_type": "execute_result",
          "data": {
            "text/html": [
              "<div>\n",
              "<style scoped>\n",
              "    .dataframe tbody tr th:only-of-type {\n",
              "        vertical-align: middle;\n",
              "    }\n",
              "\n",
              "    .dataframe tbody tr th {\n",
              "        vertical-align: top;\n",
              "    }\n",
              "\n",
              "    .dataframe thead th {\n",
              "        text-align: right;\n",
              "    }\n",
              "</style>\n",
              "<table border=\"1\" class=\"dataframe\">\n",
              "  <thead>\n",
              "    <tr style=\"text-align: right;\">\n",
              "      <th></th>\n",
              "      <th>0</th>\n",
              "      <th>1</th>\n",
              "    </tr>\n",
              "  </thead>\n",
              "  <tbody>\n",
              "    <tr>\n",
              "      <th>0</th>\n",
              "      <td>8768</td>\n",
              "      <td>932</td>\n",
              "    </tr>\n",
              "    <tr>\n",
              "      <th>1</th>\n",
              "      <td>1592</td>\n",
              "      <td>5054</td>\n",
              "    </tr>\n",
              "  </tbody>\n",
              "</table>\n",
              "</div>"
            ],
            "text/plain": [
              "      0     1\n",
              "0  8768   932\n",
              "1  1592  5054"
            ]
          },
          "metadata": {
            "tags": []
          },
          "execution_count": 96
        }
      ]
    },
    {
      "cell_type": "code",
      "metadata": {
        "id": "XbykXPWLedxN",
        "colab_type": "code",
        "colab": {
          "base_uri": "https://localhost:8080/",
          "height": 106
        },
        "outputId": "16a45068-4368-41d2-d695-533c39221ee3"
      },
      "source": [
        "# Model 1 Test\n",
        "pd.DataFrame(confusion_matrix(y_test, M1_test_y))"
      ],
      "execution_count": 97,
      "outputs": [
        {
          "output_type": "execute_result",
          "data": {
            "text/html": [
              "<div>\n",
              "<style scoped>\n",
              "    .dataframe tbody tr th:only-of-type {\n",
              "        vertical-align: middle;\n",
              "    }\n",
              "\n",
              "    .dataframe tbody tr th {\n",
              "        vertical-align: top;\n",
              "    }\n",
              "\n",
              "    .dataframe thead th {\n",
              "        text-align: right;\n",
              "    }\n",
              "</style>\n",
              "<table border=\"1\" class=\"dataframe\">\n",
              "  <thead>\n",
              "    <tr style=\"text-align: right;\">\n",
              "      <th></th>\n",
              "      <th>0</th>\n",
              "      <th>1</th>\n",
              "    </tr>\n",
              "  </thead>\n",
              "  <tbody>\n",
              "    <tr>\n",
              "      <th>0</th>\n",
              "      <td>2182</td>\n",
              "      <td>251</td>\n",
              "    </tr>\n",
              "    <tr>\n",
              "      <th>1</th>\n",
              "      <td>373</td>\n",
              "      <td>1281</td>\n",
              "    </tr>\n",
              "  </tbody>\n",
              "</table>\n",
              "</div>"
            ],
            "text/plain": [
              "      0     1\n",
              "0  2182   251\n",
              "1   373  1281"
            ]
          },
          "metadata": {
            "tags": []
          },
          "execution_count": 97
        }
      ]
    },
    {
      "cell_type": "code",
      "metadata": {
        "id": "8Bf0mmH7efr2",
        "colab_type": "code",
        "colab": {
          "base_uri": "https://localhost:8080/",
          "height": 106
        },
        "outputId": "be413f7d-f011-4931-d825-389660c64954"
      },
      "source": [
        "# Model 2 Train\n",
        "pd.DataFrame(confusion_matrix(y_train, M2_train_y))"
      ],
      "execution_count": 86,
      "outputs": [
        {
          "output_type": "execute_result",
          "data": {
            "text/html": [
              "<div>\n",
              "<style scoped>\n",
              "    .dataframe tbody tr th:only-of-type {\n",
              "        vertical-align: middle;\n",
              "    }\n",
              "\n",
              "    .dataframe tbody tr th {\n",
              "        vertical-align: top;\n",
              "    }\n",
              "\n",
              "    .dataframe thead th {\n",
              "        text-align: right;\n",
              "    }\n",
              "</style>\n",
              "<table border=\"1\" class=\"dataframe\">\n",
              "  <thead>\n",
              "    <tr style=\"text-align: right;\">\n",
              "      <th></th>\n",
              "      <th>0</th>\n",
              "      <th>1</th>\n",
              "    </tr>\n",
              "  </thead>\n",
              "  <tbody>\n",
              "    <tr>\n",
              "      <th>0</th>\n",
              "      <td>9016</td>\n",
              "      <td>684</td>\n",
              "    </tr>\n",
              "    <tr>\n",
              "      <th>1</th>\n",
              "      <td>1924</td>\n",
              "      <td>4722</td>\n",
              "    </tr>\n",
              "  </tbody>\n",
              "</table>\n",
              "</div>"
            ],
            "text/plain": [
              "      0     1\n",
              "0  9016   684\n",
              "1  1924  4722"
            ]
          },
          "metadata": {
            "tags": []
          },
          "execution_count": 86
        }
      ]
    },
    {
      "cell_type": "code",
      "metadata": {
        "id": "QOwkbDi-ehjD",
        "colab_type": "code",
        "colab": {
          "base_uri": "https://localhost:8080/",
          "height": 106
        },
        "outputId": "5734d24f-4f26-4ed3-d8f1-7d2cf021a0ec"
      },
      "source": [
        "# Model 2 Test\n",
        "pd.DataFrame(confusion_matrix(y_test, M2_test_y))"
      ],
      "execution_count": 87,
      "outputs": [
        {
          "output_type": "execute_result",
          "data": {
            "text/html": [
              "<div>\n",
              "<style scoped>\n",
              "    .dataframe tbody tr th:only-of-type {\n",
              "        vertical-align: middle;\n",
              "    }\n",
              "\n",
              "    .dataframe tbody tr th {\n",
              "        vertical-align: top;\n",
              "    }\n",
              "\n",
              "    .dataframe thead th {\n",
              "        text-align: right;\n",
              "    }\n",
              "</style>\n",
              "<table border=\"1\" class=\"dataframe\">\n",
              "  <thead>\n",
              "    <tr style=\"text-align: right;\">\n",
              "      <th></th>\n",
              "      <th>0</th>\n",
              "      <th>1</th>\n",
              "    </tr>\n",
              "  </thead>\n",
              "  <tbody>\n",
              "    <tr>\n",
              "      <th>0</th>\n",
              "      <td>2259</td>\n",
              "      <td>174</td>\n",
              "    </tr>\n",
              "    <tr>\n",
              "      <th>1</th>\n",
              "      <td>462</td>\n",
              "      <td>1192</td>\n",
              "    </tr>\n",
              "  </tbody>\n",
              "</table>\n",
              "</div>"
            ],
            "text/plain": [
              "      0     1\n",
              "0  2259   174\n",
              "1   462  1192"
            ]
          },
          "metadata": {
            "tags": []
          },
          "execution_count": 87
        }
      ]
    },
    {
      "cell_type": "code",
      "metadata": {
        "id": "Y_fGAgnFejay",
        "colab_type": "code",
        "colab": {
          "base_uri": "https://localhost:8080/",
          "height": 106
        },
        "outputId": "30626ec1-cbd3-4e8f-97dd-6704742a8b8f"
      },
      "source": [
        "# Model 2 Train\n",
        "pd.DataFrame(confusion_matrix(y_train, M3_train_y))"
      ],
      "execution_count": 88,
      "outputs": [
        {
          "output_type": "execute_result",
          "data": {
            "text/html": [
              "<div>\n",
              "<style scoped>\n",
              "    .dataframe tbody tr th:only-of-type {\n",
              "        vertical-align: middle;\n",
              "    }\n",
              "\n",
              "    .dataframe tbody tr th {\n",
              "        vertical-align: top;\n",
              "    }\n",
              "\n",
              "    .dataframe thead th {\n",
              "        text-align: right;\n",
              "    }\n",
              "</style>\n",
              "<table border=\"1\" class=\"dataframe\">\n",
              "  <thead>\n",
              "    <tr style=\"text-align: right;\">\n",
              "      <th></th>\n",
              "      <th>0</th>\n",
              "      <th>1</th>\n",
              "    </tr>\n",
              "  </thead>\n",
              "  <tbody>\n",
              "    <tr>\n",
              "      <th>0</th>\n",
              "      <td>8771</td>\n",
              "      <td>929</td>\n",
              "    </tr>\n",
              "    <tr>\n",
              "      <th>1</th>\n",
              "      <td>1707</td>\n",
              "      <td>4939</td>\n",
              "    </tr>\n",
              "  </tbody>\n",
              "</table>\n",
              "</div>"
            ],
            "text/plain": [
              "      0     1\n",
              "0  8771   929\n",
              "1  1707  4939"
            ]
          },
          "metadata": {
            "tags": []
          },
          "execution_count": 88
        }
      ]
    },
    {
      "cell_type": "code",
      "metadata": {
        "id": "7dbjvTGselhj",
        "colab_type": "code",
        "colab": {
          "base_uri": "https://localhost:8080/",
          "height": 106
        },
        "outputId": "4126b767-a2b2-498d-8609-c6b78352dff6"
      },
      "source": [
        "# Model 3 Test\n",
        "pd.DataFrame(confusion_matrix(y_test, M3_test_y))"
      ],
      "execution_count": 89,
      "outputs": [
        {
          "output_type": "execute_result",
          "data": {
            "text/html": [
              "<div>\n",
              "<style scoped>\n",
              "    .dataframe tbody tr th:only-of-type {\n",
              "        vertical-align: middle;\n",
              "    }\n",
              "\n",
              "    .dataframe tbody tr th {\n",
              "        vertical-align: top;\n",
              "    }\n",
              "\n",
              "    .dataframe thead th {\n",
              "        text-align: right;\n",
              "    }\n",
              "</style>\n",
              "<table border=\"1\" class=\"dataframe\">\n",
              "  <thead>\n",
              "    <tr style=\"text-align: right;\">\n",
              "      <th></th>\n",
              "      <th>0</th>\n",
              "      <th>1</th>\n",
              "    </tr>\n",
              "  </thead>\n",
              "  <tbody>\n",
              "    <tr>\n",
              "      <th>0</th>\n",
              "      <td>2188</td>\n",
              "      <td>245</td>\n",
              "    </tr>\n",
              "    <tr>\n",
              "      <th>1</th>\n",
              "      <td>408</td>\n",
              "      <td>1246</td>\n",
              "    </tr>\n",
              "  </tbody>\n",
              "</table>\n",
              "</div>"
            ],
            "text/plain": [
              "      0     1\n",
              "0  2188   245\n",
              "1   408  1246"
            ]
          },
          "metadata": {
            "tags": []
          },
          "execution_count": 89
        }
      ]
    },
    {
      "cell_type": "code",
      "metadata": {
        "id": "oZlNhReUjkeR",
        "colab_type": "code",
        "colab": {
          "base_uri": "https://localhost:8080/",
          "height": 124
        },
        "outputId": "15892f57-5a11-408d-8e5c-90c8fe7b097e"
      },
      "source": [
        "# Define TPR, FNR, TNR, FPR\n",
        "# Model 1 Train\n",
        "M1_train_tp, M1_train_fp, M1_train_fn, M1_train_tn = get_confusion_matrix_values(y_train, M1_train_y)\n",
        "\n",
        "M1_train_tpr = M1_train_tp/(M1_train_tp + M1_train_fn)\n",
        "M1_train_fpr = M1_train_fp/(M1_train_tn + M1_train_fp)\n",
        "M1_train_fnr = M1_train_fn/(M1_train_tp + M1_train_fn)\n",
        "M1_train_tnr = M1_train_tn/(M1_train_tn + M1_train_fp)\n",
        "print(M1_train_tpr, M1_train_fpr, M1_train_fnr, M1_train_tnr)\n",
        "\n",
        "# Model 1 Test\n",
        "M1_test_tp, M1_test_fp, M1_test_fn, M1_test_tn = get_confusion_matrix_values(y_test, M1_test_y)\n",
        "\n",
        "M1_test_tpr = M1_test_tp/(M1_test_tp + M1_test_fn)\n",
        "M1_test_fpr = M1_test_fp/(M1_test_tn + M1_test_fp)\n",
        "M1_test_fnr = M1_test_fn/(M1_test_tp + M1_test_fn)\n",
        "M1_test_tnr = M1_test_tn/(M1_test_tn + M1_test_fp)\n",
        "print(M1_test_tpr, M1_test_fpr, M1_test_fnr, M1_test_tnr)\n",
        "\n",
        "# Model 2 Train\n",
        "M2_train_tp, M2_train_fp, M2_train_fn, M2_train_tn = get_confusion_matrix_values(y_train, M2_train_y)\n",
        "\n",
        "M2_train_tpr = M2_train_tp/(M2_train_tp + M2_train_fn)\n",
        "M2_train_fpr = M2_train_fp/(M2_train_tn + M2_train_fp)\n",
        "M2_train_fnr = M2_train_fn/(M2_train_tp + M2_train_fn)\n",
        "M2_train_tnr = M2_train_tn/(M2_train_tn + M2_train_fp)\n",
        "print(M2_train_tpr, M2_train_fpr, M2_train_fnr, M2_train_tnr)\n",
        "\n",
        "# Model 2 Test\n",
        "M2_test_tp, M2_test_fp, M2_test_fn, M2_test_tn = get_confusion_matrix_values(y_test, M2_test_y)\n",
        "\n",
        "M2_test_tpr = M2_test_tp/(M2_test_tp + M2_test_fn)\n",
        "M2_test_fpr = M2_test_fp/(M2_test_tn + M2_test_fp)\n",
        "M2_test_fnr = M2_test_fn/(M2_test_tp + M2_test_fn)\n",
        "M2_test_tnr = M2_test_tn/(M2_test_tn + M2_test_fp)\n",
        "print(M2_test_tpr, M2_test_fpr, M2_test_fnr, M2_test_tnr)\n",
        "\n",
        "# Model 3 Train\n",
        "M3_train_tp, M3_train_fp, M3_train_fn, M3_train_tn = get_confusion_matrix_values(y_train, M3_train_y)\n",
        "\n",
        "M3_train_tpr = M3_train_tp/(M3_train_tp + M3_train_fn)\n",
        "M3_train_fpr = M3_train_fp/(M3_train_tn + M3_train_fp)\n",
        "M3_train_fnr = M3_train_fn/(M3_train_tp + M3_train_fn)\n",
        "M3_train_tnr = M3_train_tn/(M3_train_tn + M3_train_fp)\n",
        "print(M3_train_tpr, M3_train_fpr, M3_train_fnr, M3_train_tnr)\n",
        "\n",
        "# Model 3 Test\n",
        "M3_test_tp, M3_test_fp, M3_test_fn, M3_test_tn = get_confusion_matrix_values(y_test, M3_test_y)\n",
        "\n",
        "M3_test_tpr = M3_test_tp/(M3_test_tp + M3_test_fn)\n",
        "M3_test_fpr = M3_test_fp/(M3_test_tn + M3_test_fp)\n",
        "M3_test_fnr = M3_test_fn/(M3_test_tp + M3_test_fn)\n",
        "M3_test_tnr = M3_test_tn/(M3_test_tn + M3_test_fp)\n",
        "print(M3_test_tpr, M3_test_fpr, M3_test_fnr, M3_test_tnr)"
      ],
      "execution_count": 101,
      "outputs": [
        {
          "output_type": "stream",
          "text": [
            "0.8463320463320463 0.15569662545940527 0.15366795366795366 0.8443033745405947\n",
            "0.8540117416829746 0.16383812010443866 0.14598825831702544 0.8361618798955613\n",
            "0.8241316270566728 0.12652608213096558 0.17586837294332724 0.8734739178690344\n",
            "0.8302094818081588 0.1273792093704246 0.16979051819184124 0.8726207906295754\n",
            "0.8370872303874786 0.15831629175187456 0.16291276961252146 0.8416837082481254\n",
            "0.8428351309707242 0.1643192488262911 0.15716486902927582 0.8356807511737089\n"
          ],
          "name": "stdout"
        }
      ]
    },
    {
      "cell_type": "code",
      "metadata": {
        "id": "hbVdFsc0rDV_",
        "colab_type": "code",
        "colab": {}
      },
      "source": [
        ""
      ],
      "execution_count": 0,
      "outputs": []
    },
    {
      "cell_type": "code",
      "metadata": {
        "id": "Oz7oJ3RIlHH8",
        "colab_type": "code",
        "outputId": "03a2afee-4b21-4373-c617-d8c467f0784b",
        "colab": {
          "base_uri": "https://localhost:8080/",
          "height": 223
        }
      },
      "source": [
        "# Table of TPR, TNR, FPR, FNR, and accuracy\n",
        "data = {'Accuracy':[M1_train_score, M1_test_score, M2_train_score, M2_test_score, M3_train_score, M3_test_score], \n",
        "     'TPR':[M1_train_tpr, M1_test_tpr, M2_train_tpr, M2_test_tpr, M3_train_tpr, M3_test_tpr],\n",
        "     'TNR':[M1_train_tnr, M1_test_tnr, M2_train_tnr, M2_test_tnr, M3_train_tnr, M3_test_tnr],\n",
        "     'FPR':[M1_train_fpr, M1_test_fpr, M2_train_fpr, M2_test_fpr, M3_train_fpr, M3_test_fpr],\n",
        "     'FNR':[M1_train_fnr, M1_test_fnr, M2_train_fnr, M2_test_fnr, M3_train_fnr, M3_test_fnr]} \n",
        " \n",
        "Accuracy_Table = pd.DataFrame(data, index=['Model 1 Train', 'Model 1 Test', 'Model 2 Train', 'Model 2 Test', 'Model 3 Train', 'Model 3 Test']) \n",
        "Accuracy_Table.to_csv('/content/drive/My Drive/Deep Learning/Week 1/accuracy_table.csv')\n",
        "Accuracy_Table "
      ],
      "execution_count": 106,
      "outputs": [
        {
          "output_type": "execute_result",
          "data": {
            "text/html": [
              "<div>\n",
              "<style scoped>\n",
              "    .dataframe tbody tr th:only-of-type {\n",
              "        vertical-align: middle;\n",
              "    }\n",
              "\n",
              "    .dataframe tbody tr th {\n",
              "        vertical-align: top;\n",
              "    }\n",
              "\n",
              "    .dataframe thead th {\n",
              "        text-align: right;\n",
              "    }\n",
              "</style>\n",
              "<table border=\"1\" class=\"dataframe\">\n",
              "  <thead>\n",
              "    <tr style=\"text-align: right;\">\n",
              "      <th></th>\n",
              "      <th>Accuracy</th>\n",
              "      <th>TPR</th>\n",
              "      <th>TNR</th>\n",
              "      <th>FPR</th>\n",
              "      <th>FNR</th>\n",
              "    </tr>\n",
              "  </thead>\n",
              "  <tbody>\n",
              "    <tr>\n",
              "      <th>Model 1 Train</th>\n",
              "      <td>0.845589</td>\n",
              "      <td>0.846332</td>\n",
              "      <td>0.844303</td>\n",
              "      <td>0.155697</td>\n",
              "      <td>0.153668</td>\n",
              "    </tr>\n",
              "    <tr>\n",
              "      <th>Model 1 Test</th>\n",
              "      <td>0.847321</td>\n",
              "      <td>0.854012</td>\n",
              "      <td>0.836162</td>\n",
              "      <td>0.163838</td>\n",
              "      <td>0.145988</td>\n",
              "    </tr>\n",
              "    <tr>\n",
              "      <th>Model 2 Train</th>\n",
              "      <td>0.840450</td>\n",
              "      <td>0.824132</td>\n",
              "      <td>0.873474</td>\n",
              "      <td>0.126526</td>\n",
              "      <td>0.175868</td>\n",
              "    </tr>\n",
              "    <tr>\n",
              "      <th>Model 2 Test</th>\n",
              "      <td>0.844385</td>\n",
              "      <td>0.830209</td>\n",
              "      <td>0.872621</td>\n",
              "      <td>0.127379</td>\n",
              "      <td>0.169791</td>\n",
              "    </tr>\n",
              "    <tr>\n",
              "      <th>Model 3 Train</th>\n",
              "      <td>0.838737</td>\n",
              "      <td>0.837087</td>\n",
              "      <td>0.841684</td>\n",
              "      <td>0.158316</td>\n",
              "      <td>0.162913</td>\n",
              "    </tr>\n",
              "    <tr>\n",
              "      <th>Model 3 Test</th>\n",
              "      <td>0.840225</td>\n",
              "      <td>0.842835</td>\n",
              "      <td>0.835681</td>\n",
              "      <td>0.164319</td>\n",
              "      <td>0.157165</td>\n",
              "    </tr>\n",
              "  </tbody>\n",
              "</table>\n",
              "</div>"
            ],
            "text/plain": [
              "               Accuracy       TPR       TNR       FPR       FNR\n",
              "Model 1 Train  0.845589  0.846332  0.844303  0.155697  0.153668\n",
              "Model 1 Test   0.847321  0.854012  0.836162  0.163838  0.145988\n",
              "Model 2 Train  0.840450  0.824132  0.873474  0.126526  0.175868\n",
              "Model 2 Test   0.844385  0.830209  0.872621  0.127379  0.169791\n",
              "Model 3 Train  0.838737  0.837087  0.841684  0.158316  0.162913\n",
              "Model 3 Test   0.840225  0.842835  0.835681  0.164319  0.157165"
            ]
          },
          "metadata": {
            "tags": []
          },
          "execution_count": 106
        }
      ]
    }
  ]
}